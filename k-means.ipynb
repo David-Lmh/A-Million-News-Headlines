{
 "cells": [
  {
   "cell_type": "code",
   "execution_count": 2,
   "metadata": {},
   "outputs": [
    {
     "name": "stderr",
     "output_type": "stream",
     "text": [
      "C:\\Users\\lmh23\\AppData\\Local\\Temp\\ipykernel_4128\\2496444233.py:2: DeprecationWarning: \n",
      "Pyarrow will become a required dependency of pandas in the next major release of pandas (pandas 3.0),\n",
      "(to allow more performant data types, such as the Arrow string type, and better interoperability with other libraries)\n",
      "but was not found to be installed on your system.\n",
      "If this would cause problems for you,\n",
      "please provide us feedback at https://github.com/pandas-dev/pandas/issues/54466\n",
      "        \n",
      "  import pandas as pd\n"
     ]
    }
   ],
   "source": [
    "import numpy as np \n",
    "import pandas as pd \n",
    "import matplotlib.pyplot as plt\n",
    "import seaborn as sns\n",
    "from sklearn.feature_extraction import text\n",
    "from sklearn.feature_extraction.text import TfidfVectorizer, ENGLISH_STOP_WORDS\n",
    "from sklearn.cluster import KMeans\n",
    "from nltk.tokenize import RegexpTokenizer\n",
    "from nltk.stem.snowball import SnowballStemmer\n",
    "%matplotlib inline"
   ]
  },
  {
   "cell_type": "code",
   "execution_count": 3,
   "metadata": {},
   "outputs": [
    {
     "data": {
      "text/html": [
       "<div>\n",
       "<style scoped>\n",
       "    .dataframe tbody tr th:only-of-type {\n",
       "        vertical-align: middle;\n",
       "    }\n",
       "\n",
       "    .dataframe tbody tr th {\n",
       "        vertical-align: top;\n",
       "    }\n",
       "\n",
       "    .dataframe thead th {\n",
       "        text-align: right;\n",
       "    }\n",
       "</style>\n",
       "<table border=\"1\" class=\"dataframe\">\n",
       "  <thead>\n",
       "    <tr style=\"text-align: right;\">\n",
       "      <th></th>\n",
       "      <th>headline_text</th>\n",
       "    </tr>\n",
       "  </thead>\n",
       "  <tbody>\n",
       "    <tr>\n",
       "      <th>0</th>\n",
       "      <td>aba decides against community broadcasting lic...</td>\n",
       "    </tr>\n",
       "    <tr>\n",
       "      <th>1</th>\n",
       "      <td>act fire witnesses must be aware of defamation</td>\n",
       "    </tr>\n",
       "    <tr>\n",
       "      <th>2</th>\n",
       "      <td>a g calls for infrastructure protection summit</td>\n",
       "    </tr>\n",
       "    <tr>\n",
       "      <th>3</th>\n",
       "      <td>air nz staff in aust strike for pay rise</td>\n",
       "    </tr>\n",
       "    <tr>\n",
       "      <th>4</th>\n",
       "      <td>air nz strike to affect australian travellers</td>\n",
       "    </tr>\n",
       "  </tbody>\n",
       "</table>\n",
       "</div>"
      ],
      "text/plain": [
       "                                       headline_text\n",
       "0  aba decides against community broadcasting lic...\n",
       "1     act fire witnesses must be aware of defamation\n",
       "2     a g calls for infrastructure protection summit\n",
       "3           air nz staff in aust strike for pay rise\n",
       "4      air nz strike to affect australian travellers"
      ]
     },
     "execution_count": 3,
     "metadata": {},
     "output_type": "execute_result"
    }
   ],
   "source": [
    "data = pd.read_csv('./archive/abcnews-date-text.csv', usecols=[\"headline_text\"], on_bad_lines='skip')\n",
    "data.head()"
   ]
  },
  {
   "cell_type": "code",
   "execution_count": 4,
   "metadata": {},
   "outputs": [
    {
     "name": "stdout",
     "output_type": "stream",
     "text": [
      "<class 'pandas.core.frame.DataFrame'>\n",
      "RangeIndex: 1244184 entries, 0 to 1244183\n",
      "Data columns (total 1 columns):\n",
      " #   Column         Non-Null Count    Dtype \n",
      "---  ------         --------------    ----- \n",
      " 0   headline_text  1244184 non-null  object\n",
      "dtypes: object(1)\n",
      "memory usage: 9.5+ MB\n"
     ]
    }
   ],
   "source": [
    "data.info()"
   ]
  },
  {
   "cell_type": "code",
   "execution_count": 5,
   "metadata": {},
   "outputs": [
    {
     "data": {
      "text/html": [
       "<div>\n",
       "<style scoped>\n",
       "    .dataframe tbody tr th:only-of-type {\n",
       "        vertical-align: middle;\n",
       "    }\n",
       "\n",
       "    .dataframe tbody tr th {\n",
       "        vertical-align: top;\n",
       "    }\n",
       "\n",
       "    .dataframe thead th {\n",
       "        text-align: right;\n",
       "    }\n",
       "</style>\n",
       "<table border=\"1\" class=\"dataframe\">\n",
       "  <thead>\n",
       "    <tr style=\"text-align: right;\">\n",
       "      <th></th>\n",
       "      <th>headline_text</th>\n",
       "    </tr>\n",
       "  </thead>\n",
       "  <tbody>\n",
       "    <tr>\n",
       "      <th>116298</th>\n",
       "      <td>10 killed in pakistan bus crash</td>\n",
       "    </tr>\n",
       "    <tr>\n",
       "      <th>57967</th>\n",
       "      <td>10 killed in pakistan bus crash</td>\n",
       "    </tr>\n",
       "    <tr>\n",
       "      <th>911080</th>\n",
       "      <td>110 with barry nicholls</td>\n",
       "    </tr>\n",
       "    <tr>\n",
       "      <th>672958</th>\n",
       "      <td>110 with barry nicholls</td>\n",
       "    </tr>\n",
       "    <tr>\n",
       "      <th>748629</th>\n",
       "      <td>110 with barry nicholls</td>\n",
       "    </tr>\n",
       "    <tr>\n",
       "      <th>...</th>\n",
       "      <td>...</td>\n",
       "    </tr>\n",
       "    <tr>\n",
       "      <th>835746</th>\n",
       "      <td>zoo stoush heads to vcat</td>\n",
       "    </tr>\n",
       "    <tr>\n",
       "      <th>855107</th>\n",
       "      <td>zoonotic disease research</td>\n",
       "    </tr>\n",
       "    <tr>\n",
       "      <th>966531</th>\n",
       "      <td>zoonotic disease research</td>\n",
       "    </tr>\n",
       "    <tr>\n",
       "      <th>644322</th>\n",
       "      <td>zsa zsa back in hospital</td>\n",
       "    </tr>\n",
       "    <tr>\n",
       "      <th>651786</th>\n",
       "      <td>zsa zsa back in hospital</td>\n",
       "    </tr>\n",
       "  </tbody>\n",
       "</table>\n",
       "<p>40504 rows × 1 columns</p>\n",
       "</div>"
      ],
      "text/plain": [
       "                          headline_text\n",
       "116298  10 killed in pakistan bus crash\n",
       "57967   10 killed in pakistan bus crash\n",
       "911080          110 with barry nicholls\n",
       "672958          110 with barry nicholls\n",
       "748629          110 with barry nicholls\n",
       "...                                 ...\n",
       "835746         zoo stoush heads to vcat\n",
       "855107        zoonotic disease research\n",
       "966531        zoonotic disease research\n",
       "644322         zsa zsa back in hospital\n",
       "651786         zsa zsa back in hospital\n",
       "\n",
       "[40504 rows x 1 columns]"
      ]
     },
     "execution_count": 5,
     "metadata": {},
     "output_type": "execute_result"
    }
   ],
   "source": [
    "data[data['headline_text'].duplicated(keep=False)].sort_values('headline_text')"
   ]
  },
  {
   "cell_type": "code",
   "execution_count": 6,
   "metadata": {},
   "outputs": [],
   "source": [
    "data = data.drop_duplicates('headline_text')"
   ]
  },
  {
   "cell_type": "code",
   "execution_count": 7,
   "metadata": {},
   "outputs": [
    {
     "name": "stdout",
     "output_type": "stream",
     "text": [
      "The length of the vocabulary is:  105674\n",
      "['affidavit' 'affidavits' 'affiliate' 'affiliated' 'affiliation'\n",
      " 'affiliations' 'affinity' 'affirm' 'affirmation' 'affirmative' 'affirmed'\n",
      " 'affirming' 'affirms' 'affleck' 'afflecks' 'affliate' 'afflicted'\n",
      " 'affliction' 'afflicts' 'affliliated' 'affllicting' 'affluence'\n",
      " 'affluent' 'affluenza' 'afforable' 'afford' 'affordabil' 'affordabili'\n",
      " 'affordability' 'affordabilitys' 'affordable' 'affordablility' 'afforded'\n",
      " 'affordibility' 'affording' 'affords' 'afforestation' 'affray' 'affront'\n",
      " 'afgan' 'afganistan' 'afganistans' 'afgc' 'afghan' 'afghani' 'afghanis'\n",
      " 'afghanistan' 'afghanistans' 'afghanl' 'afghans' 'afghanstans'\n",
      " 'afhganistan' 'afi' 'afic' 'afican' 'aficionados' 'afield' 'afiomai'\n",
      " 'afircan' 'afis' 'afkari' 'afl' 'afl2' 'aflame' 'aflca' 'aflgf' 'aflie'\n",
      " 'afll' 'aflm' 'aflnick' 'aflnt' 'afloat' 'aflpa' 'aflq' 'afls' 'aflutter'\n",
      " 'aflw' 'aflws' 'aflx' 'afma' 'afmas' 'afoa' 'afoot' 'afp' 'afpa' 'afpla'\n",
      " 'afps' 'afr' 'afraid' 'afrcia' 'afresh' 'afri' 'afric' 'africa' 'african'\n",
      " 'africans' 'africanus' 'africas' 'africaspotted' 'africulture']\n"
     ]
    }
   ],
   "source": [
    "# TF-IDF\n",
    "\n",
    "# punctuation\n",
    "punc = ['.', ',', '\"', \"'\", '?', '!', ':', ';', '(', ')', '[', ']', '{', '}', \"%\"]\n",
    "stop_words = text.ENGLISH_STOP_WORDS.union(punc)\n",
    "\n",
    "# Your text data\n",
    "desc = data['headline_text'].values\n",
    "vectorizer = TfidfVectorizer(stop_words=list(stop_words))\n",
    "\n",
    "# Transforming your text data\n",
    "X = vectorizer.fit_transform(desc)\n",
    "word_features = vectorizer.get_feature_names_out()\n",
    "\n",
    "print(\"The length of the vocabulary is: \", len(word_features))\n",
    "print(word_features[5000:5100])"
   ]
  },
  {
   "cell_type": "code",
   "execution_count": 8,
   "metadata": {},
   "outputs": [],
   "source": [
    "stemmer = SnowballStemmer('english')\n",
    "tokenizer = RegexpTokenizer(r'[a-zA-Z\\']+')\n",
    "\n",
    "def tokenize(text):\n",
    "    return [stemmer.stem(word) for word in tokenizer.tokenize(text.lower())]"
   ]
  },
  {
   "cell_type": "code",
   "execution_count": 9,
   "metadata": {},
   "outputs": [
    {
     "name": "stderr",
     "output_type": "stream",
     "text": [
      "e:\\Anaconda\\envs\\LMH\\lib\\site-packages\\sklearn\\feature_extraction\\text.py:525: UserWarning: The parameter 'token_pattern' will not be used since 'tokenizer' is not None'\n",
      "  warnings.warn(\n",
      "e:\\Anaconda\\envs\\LMH\\lib\\site-packages\\sklearn\\feature_extraction\\text.py:408: UserWarning: Your stop_words may be inconsistent with your preprocessing. Tokenizing the stop words generated tokens ['abov', 'afterward', 'alon', 'alreadi', 'alway', 'ani', 'anoth', 'anyon', 'anyth', 'anywher', 'becam', 'becaus', 'becom', 'befor', 'besid', 'cri', 'describ', 'dure', 'els', 'elsewher', 'empti', 'everi', 'everyon', 'everyth', 'everywher', 'fifti', 'forti', 'henc', 'hereaft', 'herebi', 'howev', 'hundr', 'inde', 'mani', 'meanwhil', 'moreov', 'nobodi', 'noon', 'noth', 'nowher', 'onc', 'onli', 'otherwis', 'ourselv', 'perhap', 'pleas', 'sever', 'sinc', 'sincer', 'sixti', 'someon', 'someth', 'sometim', 'somewher', 'themselv', 'thenc', 'thereaft', 'therebi', 'therefor', 'togeth', 'twelv', 'twenti', 'veri', 'whatev', 'whenc', 'whenev', 'wherea', 'whereaft', 'wherebi', 'wherev', 'whi', 'yourselv'] not in stop_words.\n",
      "  warnings.warn(\n"
     ]
    },
    {
     "name": "stdout",
     "output_type": "stream",
     "text": [
      "73341\n",
      "[\"'a\" \"'i\" \"'s\" \"'x\" 'aa' 'aaa' 'aaahhh' 'aac' 'aacc' 'aaco' 'aacta' 'aad'\n",
      " 'aadhaar' 'aadmi' 'aag' 'aagaard' 'aagard' 'aah' 'aalto' 'aam' 'aamer'\n",
      " 'aami' 'aamodt' 'aandahl' 'aant' 'aap' 'aapa' 'aapt' 'aar' 'aaradhna'\n",
      " 'aardman' 'aardvark' 'aargau' 'aaron' 'aaronpaul' 'aarwun' 'aat' 'ab'\n",
      " 'aba' 'abaaoud' 'ababa' 'aback' 'abacus' 'abadi' 'abadon' 'abal' 'abalon'\n",
      " 'abalonv' 'abama' 'abandon']\n"
     ]
    }
   ],
   "source": [
    "vectorizer2 = TfidfVectorizer(stop_words = list(stop_words), tokenizer = tokenize)\n",
    "X2 = vectorizer2.fit_transform(desc)\n",
    "word_features2 = vectorizer2.get_feature_names_out()\n",
    "print(len(word_features2))\n",
    "print(word_features2[:50]) "
   ]
  },
  {
   "cell_type": "code",
   "execution_count": 10,
   "metadata": {},
   "outputs": [],
   "source": [
    "vectorizer3 = TfidfVectorizer(stop_words = list(stop_words), tokenizer = tokenize, max_features = 1000)\n",
    "X3 = vectorizer3.fit_transform(desc)\n",
    "words = vectorizer3.get_feature_names_out()"
   ]
  },
  {
   "cell_type": "code",
   "execution_count": 12,
   "metadata": {},
   "outputs": [
    {
     "name": "stdout",
     "output_type": "stream",
     "text": [
      "Cluster  1  done\n",
      "WCSS:  1168847.4407846779\n",
      "Cluster  2  done\n",
      "WCSS:  1163185.684111766\n",
      "Cluster  3  done\n",
      "WCSS:  1158493.9231267143\n",
      "Cluster  4  done\n",
      "WCSS:  1154114.0982723786\n",
      "Cluster  5  done\n",
      "WCSS:  1153350.4137428203\n",
      "Cluster  6  done\n",
      "WCSS:  1148678.3941319198\n",
      "Cluster  7  done\n",
      "WCSS:  1143929.120432569\n",
      "Cluster  8  done\n",
      "WCSS:  1140615.3897159193\n",
      "Cluster  9  done\n",
      "WCSS:  1134214.3007382753\n",
      "Cluster  10  done\n",
      "WCSS:  1136788.9193637667\n",
      "Cluster  11  done\n",
      "WCSS:  1143155.5924338035\n",
      "Cluster  12  done\n",
      "WCSS:  1131708.7623215108\n",
      "Cluster  13  done\n",
      "WCSS:  1125621.2539804352\n",
      "Cluster  14  done\n",
      "WCSS:  1123200.1008816347\n",
      "Cluster  15  done\n",
      "WCSS:  1120533.165513711\n",
      "Cluster  16  done\n",
      "WCSS:  1120437.6721513935\n",
      "Cluster  17  done\n",
      "WCSS:  1112260.2971664362\n",
      "Cluster  18  done\n",
      "WCSS:  1112731.1581566848\n",
      "Cluster  19  done\n",
      "WCSS:  1107223.1004457371\n",
      "Cluster  20  done\n",
      "WCSS:  1110388.3375661224\n",
      "Cluster  21  done\n",
      "WCSS:  1117359.3070702518\n",
      "Cluster  22  done\n",
      "WCSS:  1102737.606210226\n",
      "Cluster  23  done\n",
      "WCSS:  1102292.6540611582\n",
      "Cluster  24  done\n",
      "WCSS:  1103681.0110192301\n",
      "Cluster  25  done\n",
      "WCSS:  1103514.0983103407\n",
      "Cluster  26  done\n",
      "WCSS:  1096277.6062908047\n",
      "Cluster  27  done\n",
      "WCSS:  1091259.1012124473\n",
      "Cluster  28  done\n",
      "WCSS:  1090529.5944579602\n",
      "Cluster  29  done\n",
      "WCSS:  1096447.113561208\n",
      "Cluster  30  done\n",
      "WCSS:  1086151.2486117717\n"
     ]
    },
    {
     "ename": "ValueError",
     "evalue": "x and y must have same first dimension, but have shapes (10,) and (30,)",
     "output_type": "error",
     "traceback": [
      "\u001b[1;31m---------------------------------------------------------------------------\u001b[0m",
      "\u001b[1;31mValueError\u001b[0m                                Traceback (most recent call last)",
      "Cell \u001b[1;32mIn[12], line 11\u001b[0m\n\u001b[0;32m      8\u001b[0m     \u001b[38;5;28mprint\u001b[39m(\u001b[38;5;124m'\u001b[39m\u001b[38;5;124mCluster \u001b[39m\u001b[38;5;124m'\u001b[39m, i, \u001b[38;5;124m'\u001b[39m\u001b[38;5;124m done\u001b[39m\u001b[38;5;124m'\u001b[39m)\n\u001b[0;32m      9\u001b[0m     \u001b[38;5;28mprint\u001b[39m(\u001b[38;5;124m'\u001b[39m\u001b[38;5;124mWCSS: \u001b[39m\u001b[38;5;124m'\u001b[39m, kmeans\u001b[38;5;241m.\u001b[39minertia_)\n\u001b[1;32m---> 11\u001b[0m \u001b[43mplt\u001b[49m\u001b[38;5;241;43m.\u001b[39;49m\u001b[43mplot\u001b[49m\u001b[43m(\u001b[49m\u001b[38;5;28;43mrange\u001b[39;49m\u001b[43m(\u001b[49m\u001b[38;5;241;43m1\u001b[39;49m\u001b[43m,\u001b[49m\u001b[38;5;241;43m11\u001b[39;49m\u001b[43m)\u001b[49m\u001b[43m,\u001b[49m\u001b[43mwcss\u001b[49m\u001b[43m)\u001b[49m\n\u001b[0;32m     12\u001b[0m plt\u001b[38;5;241m.\u001b[39mtitle(\u001b[38;5;124m'\u001b[39m\u001b[38;5;124mElbow Method\u001b[39m\u001b[38;5;124m'\u001b[39m)\n\u001b[0;32m     13\u001b[0m plt\u001b[38;5;241m.\u001b[39mxlabel(\u001b[38;5;124m'\u001b[39m\u001b[38;5;124mNumber of clusters\u001b[39m\u001b[38;5;124m'\u001b[39m)\n",
      "File \u001b[1;32me:\\Anaconda\\envs\\LMH\\lib\\site-packages\\matplotlib\\pyplot.py:3575\u001b[0m, in \u001b[0;36mplot\u001b[1;34m(scalex, scaley, data, *args, **kwargs)\u001b[0m\n\u001b[0;32m   3567\u001b[0m \u001b[38;5;129m@_copy_docstring_and_deprecators\u001b[39m(Axes\u001b[38;5;241m.\u001b[39mplot)\n\u001b[0;32m   3568\u001b[0m \u001b[38;5;28;01mdef\u001b[39;00m \u001b[38;5;21mplot\u001b[39m(\n\u001b[0;32m   3569\u001b[0m     \u001b[38;5;241m*\u001b[39margs: \u001b[38;5;28mfloat\u001b[39m \u001b[38;5;241m|\u001b[39m ArrayLike \u001b[38;5;241m|\u001b[39m \u001b[38;5;28mstr\u001b[39m,\n\u001b[1;32m   (...)\u001b[0m\n\u001b[0;32m   3573\u001b[0m     \u001b[38;5;241m*\u001b[39m\u001b[38;5;241m*\u001b[39mkwargs,\n\u001b[0;32m   3574\u001b[0m ) \u001b[38;5;241m-\u001b[39m\u001b[38;5;241m>\u001b[39m \u001b[38;5;28mlist\u001b[39m[Line2D]:\n\u001b[1;32m-> 3575\u001b[0m     \u001b[38;5;28;01mreturn\u001b[39;00m gca()\u001b[38;5;241m.\u001b[39mplot(\n\u001b[0;32m   3576\u001b[0m         \u001b[38;5;241m*\u001b[39margs,\n\u001b[0;32m   3577\u001b[0m         scalex\u001b[38;5;241m=\u001b[39mscalex,\n\u001b[0;32m   3578\u001b[0m         scaley\u001b[38;5;241m=\u001b[39mscaley,\n\u001b[0;32m   3579\u001b[0m         \u001b[38;5;241m*\u001b[39m\u001b[38;5;241m*\u001b[39m({\u001b[38;5;124m\"\u001b[39m\u001b[38;5;124mdata\u001b[39m\u001b[38;5;124m\"\u001b[39m: data} \u001b[38;5;28;01mif\u001b[39;00m data \u001b[38;5;129;01mis\u001b[39;00m \u001b[38;5;129;01mnot\u001b[39;00m \u001b[38;5;28;01mNone\u001b[39;00m \u001b[38;5;28;01melse\u001b[39;00m {}),\n\u001b[0;32m   3580\u001b[0m         \u001b[38;5;241m*\u001b[39m\u001b[38;5;241m*\u001b[39mkwargs,\n\u001b[0;32m   3581\u001b[0m     )\n",
      "File \u001b[1;32me:\\Anaconda\\envs\\LMH\\lib\\site-packages\\matplotlib\\axes\\_axes.py:1721\u001b[0m, in \u001b[0;36mAxes.plot\u001b[1;34m(self, scalex, scaley, data, *args, **kwargs)\u001b[0m\n\u001b[0;32m   1478\u001b[0m \u001b[38;5;250m\u001b[39m\u001b[38;5;124;03m\"\"\"\u001b[39;00m\n\u001b[0;32m   1479\u001b[0m \u001b[38;5;124;03mPlot y versus x as lines and/or markers.\u001b[39;00m\n\u001b[0;32m   1480\u001b[0m \n\u001b[1;32m   (...)\u001b[0m\n\u001b[0;32m   1718\u001b[0m \u001b[38;5;124;03m(``'green'``) or hex strings (``'#008000'``).\u001b[39;00m\n\u001b[0;32m   1719\u001b[0m \u001b[38;5;124;03m\"\"\"\u001b[39;00m\n\u001b[0;32m   1720\u001b[0m kwargs \u001b[38;5;241m=\u001b[39m cbook\u001b[38;5;241m.\u001b[39mnormalize_kwargs(kwargs, mlines\u001b[38;5;241m.\u001b[39mLine2D)\n\u001b[1;32m-> 1721\u001b[0m lines \u001b[38;5;241m=\u001b[39m [\u001b[38;5;241m*\u001b[39m\u001b[38;5;28mself\u001b[39m\u001b[38;5;241m.\u001b[39m_get_lines(\u001b[38;5;28mself\u001b[39m, \u001b[38;5;241m*\u001b[39margs, data\u001b[38;5;241m=\u001b[39mdata, \u001b[38;5;241m*\u001b[39m\u001b[38;5;241m*\u001b[39mkwargs)]\n\u001b[0;32m   1722\u001b[0m \u001b[38;5;28;01mfor\u001b[39;00m line \u001b[38;5;129;01min\u001b[39;00m lines:\n\u001b[0;32m   1723\u001b[0m     \u001b[38;5;28mself\u001b[39m\u001b[38;5;241m.\u001b[39madd_line(line)\n",
      "File \u001b[1;32me:\\Anaconda\\envs\\LMH\\lib\\site-packages\\matplotlib\\axes\\_base.py:303\u001b[0m, in \u001b[0;36m_process_plot_var_args.__call__\u001b[1;34m(self, axes, data, *args, **kwargs)\u001b[0m\n\u001b[0;32m    301\u001b[0m     this \u001b[38;5;241m+\u001b[39m\u001b[38;5;241m=\u001b[39m args[\u001b[38;5;241m0\u001b[39m],\n\u001b[0;32m    302\u001b[0m     args \u001b[38;5;241m=\u001b[39m args[\u001b[38;5;241m1\u001b[39m:]\n\u001b[1;32m--> 303\u001b[0m \u001b[38;5;28;01myield from\u001b[39;00m \u001b[38;5;28;43mself\u001b[39;49m\u001b[38;5;241;43m.\u001b[39;49m\u001b[43m_plot_args\u001b[49m\u001b[43m(\u001b[49m\n\u001b[0;32m    304\u001b[0m \u001b[43m    \u001b[49m\u001b[43maxes\u001b[49m\u001b[43m,\u001b[49m\u001b[43m \u001b[49m\u001b[43mthis\u001b[49m\u001b[43m,\u001b[49m\u001b[43m \u001b[49m\u001b[43mkwargs\u001b[49m\u001b[43m,\u001b[49m\u001b[43m \u001b[49m\u001b[43mambiguous_fmt_datakey\u001b[49m\u001b[38;5;241;43m=\u001b[39;49m\u001b[43mambiguous_fmt_datakey\u001b[49m\u001b[43m)\u001b[49m\n",
      "File \u001b[1;32me:\\Anaconda\\envs\\LMH\\lib\\site-packages\\matplotlib\\axes\\_base.py:499\u001b[0m, in \u001b[0;36m_process_plot_var_args._plot_args\u001b[1;34m(self, axes, tup, kwargs, return_kwargs, ambiguous_fmt_datakey)\u001b[0m\n\u001b[0;32m    496\u001b[0m     axes\u001b[38;5;241m.\u001b[39myaxis\u001b[38;5;241m.\u001b[39mupdate_units(y)\n\u001b[0;32m    498\u001b[0m \u001b[38;5;28;01mif\u001b[39;00m x\u001b[38;5;241m.\u001b[39mshape[\u001b[38;5;241m0\u001b[39m] \u001b[38;5;241m!=\u001b[39m y\u001b[38;5;241m.\u001b[39mshape[\u001b[38;5;241m0\u001b[39m]:\n\u001b[1;32m--> 499\u001b[0m     \u001b[38;5;28;01mraise\u001b[39;00m \u001b[38;5;167;01mValueError\u001b[39;00m(\u001b[38;5;124mf\u001b[39m\u001b[38;5;124m\"\u001b[39m\u001b[38;5;124mx and y must have same first dimension, but \u001b[39m\u001b[38;5;124m\"\u001b[39m\n\u001b[0;32m    500\u001b[0m                      \u001b[38;5;124mf\u001b[39m\u001b[38;5;124m\"\u001b[39m\u001b[38;5;124mhave shapes \u001b[39m\u001b[38;5;132;01m{\u001b[39;00mx\u001b[38;5;241m.\u001b[39mshape\u001b[38;5;132;01m}\u001b[39;00m\u001b[38;5;124m and \u001b[39m\u001b[38;5;132;01m{\u001b[39;00my\u001b[38;5;241m.\u001b[39mshape\u001b[38;5;132;01m}\u001b[39;00m\u001b[38;5;124m\"\u001b[39m)\n\u001b[0;32m    501\u001b[0m \u001b[38;5;28;01mif\u001b[39;00m x\u001b[38;5;241m.\u001b[39mndim \u001b[38;5;241m>\u001b[39m \u001b[38;5;241m2\u001b[39m \u001b[38;5;129;01mor\u001b[39;00m y\u001b[38;5;241m.\u001b[39mndim \u001b[38;5;241m>\u001b[39m \u001b[38;5;241m2\u001b[39m:\n\u001b[0;32m    502\u001b[0m     \u001b[38;5;28;01mraise\u001b[39;00m \u001b[38;5;167;01mValueError\u001b[39;00m(\u001b[38;5;124mf\u001b[39m\u001b[38;5;124m\"\u001b[39m\u001b[38;5;124mx and y can be no greater than 2D, but have \u001b[39m\u001b[38;5;124m\"\u001b[39m\n\u001b[0;32m    503\u001b[0m                      \u001b[38;5;124mf\u001b[39m\u001b[38;5;124m\"\u001b[39m\u001b[38;5;124mshapes \u001b[39m\u001b[38;5;132;01m{\u001b[39;00mx\u001b[38;5;241m.\u001b[39mshape\u001b[38;5;132;01m}\u001b[39;00m\u001b[38;5;124m and \u001b[39m\u001b[38;5;132;01m{\u001b[39;00my\u001b[38;5;241m.\u001b[39mshape\u001b[38;5;132;01m}\u001b[39;00m\u001b[38;5;124m\"\u001b[39m)\n",
      "\u001b[1;31mValueError\u001b[0m: x and y must have same first dimension, but have shapes (10,) and (30,)"
     ]
    },
    {
     "data": {
      "image/png": "[encoded data removed]",
      "text/plain": [
       "<Figure size 640x480 with 1 Axes>"
      ]
     },
     "metadata": {},
     "output_type": "display_data"
    }
   ],
   "source": [
    "# KMeans\n",
    "\n",
    "wcss = []\n",
    "for i in range(1,31):\n",
    "    kmeans = KMeans(n_clusters=i,init='k-means++',max_iter=300,n_init=10,random_state=0)\n",
    "    kmeans.fit(X3)\n",
    "    wcss.append(kmeans.inertia_)\n",
    "    print('Cluster ', i, ' done')\n",
    "    print('WCSS: ', kmeans.inertia_)\n",
    "\n"
   ]
  },
  {
   "cell_type": "code",
   "execution_count": 13,
   "metadata": {},
   "outputs": [
    {
     "data": {
      "image/png": "[encoded data removed]",
      "text/plain": [
       "<Figure size 640x480 with 1 Axes>"
      ]
     },
     "metadata": {},
     "output_type": "display_data"
    }
   ],
   "source": [
    "plt.plot(range(1,31),wcss)\n",
    "plt.title('Elbow Method')\n",
    "plt.xlabel('Number of clusters')\n",
    "plt.ylabel('WCSS')\n",
    "plt.show()"
   ]
  },
  {
   "cell_type": "code",
   "execution_count": 18,
   "metadata": {},
   "outputs": [
    {
     "name": "stdout",
     "output_type": "stream",
     "text": [
      "['decis' 'declar' 'defenc' 'defend' 'delay' 'deliv' 'demand' 'deni'\n",
      " 'despit' 'destroy' 'detent' 'develop' 'die' 'director' 'disabl' 'disast'\n",
      " 'discuss' 'diseas' 'dismiss' 'disput' 'doctor' 'dog' 'dollar' 'domest'\n",
      " 'donald' 'donat' 'doubl' 'doubt' 'draw' 'dri' 'drink' 'drive' 'driver'\n",
      " 'drop' 'drought' 'drown' 'drug' 'drum' 'dump' 'dure' 'eagl' 'earli' 'eas'\n",
      " 'east' 'econom' 'economi' 'edg' 'educ' 'effort' 'elder']\n"
     ]
    }
   ],
   "source": [
    "print(words[250:300])"
   ]
  },
  {
   "cell_type": "code",
   "execution_count": 20,
   "metadata": {},
   "outputs": [
    {
     "name": "stdout",
     "output_type": "stream",
     "text": [
      "Number of clusters:  3\n",
      "0 : polic, new, say, plan, australia, council, govt, australian, report, charg, nsw, kill, court, warn, death, water, fund, urg, year, face, crash, sydney, chang, wa, open\n",
      "1 : man, charg, murder, polic, jail, court, die, stab, arrest, face, miss, assault, accus, death, kill, attack, guilti, car, crash, shoot, child, sydney, alleg, sex, search\n",
      "2 : win, award, cup, titl, open, gold, stage, world, final, tour, elect, australia, lead, seri, claim, aussi, australian, second, grand, big, england, race, record, battl, m\n",
      "\n",
      "\n",
      "Number of clusters:  5\n",
      "0 : polic, new, plan, win, australia, council, report, court, kill, nsw, warn, water, death, year, sydney, fund, crash, chang, open, wa, interview, urg, day, attack, face\n",
      "1 : man, charg, murder, polic, court, face, jail, assault, stab, death, die, drug, arrest, guilti, woman, child, attack, accus, sex, car, crash, kill, miss, alleg, shoot\n",
      "2 : continu, search, miss, investig, polic, fight, probe, protest, clean, push, flood, despit, talk, rise, market, work, death, hunt, run, strike, vow, debat, price, battl, qld\n",
      "3 : australian, china, open, south, trade, year, share, market, dollar, kill, australia, new, win, coronavirus, export, report, deal, world, say, dead, fall, rise, death, arrest, war\n",
      "4 : say, govt, urg, plan, fund, polic, need, nsw, qld, wa, sa, council, vic, new, report, opposit, minist, chang, water, health, mp, labor, group, union, nt\n",
      "\n",
      "\n",
      "Number of clusters:  7\n",
      "0 : resid, darwin, abc, news, talk, speak, urg, plan, warn, flood, water, home, report, say, bushfir, evacu, fight, cyclon, concern, nt, hous, learn, leav, return, fear\n",
      "1 : man, charg, murder, jail, polic, court, die, stab, arrest, face, miss, assault, accus, kill, death, guilti, attack, car, crash, shoot, child, sydney, alleg, sex, search\n",
      "2 : polic, investig, probe, offic, search, hunt, death, car, arrest, shoot, drug, miss, charg, crash, say, attack, driver, seek, murder, assault, suspect, fatal, raid, protest, woman\n",
      "3 : say, win, australia, plan, australian, govt, court, kill, report, charg, warn, death, fund, water, face, open, chang, year, urg, sydney, crash, wa, interview, day, attack\n",
      "4 : new, zealand, year, law, plan, case, open, australia, record, home, polic, set, hospit, centr, deal, south, announc, hope, look, wa, say, appoint, minist, chief, rule\n",
      "5 : nsw, rural, hour, govt, countri, polic, coast, coronavirus, govern, case, new, premier, covid, bushfir, flood, drought, elect, farmer, north, sydney, northern, plan, record, western, west\n",
      "6 : council, plan, consid, fund, rate, urg, seek, new, water, land, merger, develop, reject, say, mayor, elect, vote, chang, citi, rise, meet, park, push, want, budget\n",
      "\n",
      "\n",
      "Number of clusters:  10\n",
      "0 : polic, new, plan, win, council, kill, court, report, warn, nsw, death, year, sydney, interview, open, chang, crash, attack, wa, elect, face, urg, hous, hit, claim\n",
      "1 : charg, man, murder, face, assault, drug, polic, child, woman, sex, court, death, teen, stab, drop, alleg, rape, men, guilti, attack, shoot, bail, sydney, fatal, driver\n",
      "2 : man, jail, polic, court, arrest, murder, miss, accus, stab, kill, guilti, attack, death, face, assault, car, search, shoot, shot, dead, plead, crash, sydney, alleg, bash\n",
      "3 : australian, open, year, share, dollar, south, market, win, new, china, say, kill, coronavirus, help, fall, team, day, chines, soldier, govern, women, young, arrest, png, world\n",
      "4 : fund, miss, search, boost, govt, polic, feder, council, woman, school, cut, help, road, seek, govern, hospit, urg, budget, continu, centr, bodi, region, boy, new, group\n",
      "5 : die, man, crash, age, woman, car, accid, road, hit, fall, driver, hospit, boy, near, highway, truck, hous, teen, australian, yo, sydney, girl, polic, attack, babi\n",
      "6 : australia, day, south, coronavirus, test, new, india, cup, world, cricket, covid, china, live, say, win, vs, western, zealand, england, ash, post, vaccin, central, pakistan, lead\n",
      "7 : say, govt, urg, plan, polic, need, nsw, qld, wa, new, council, sa, report, vic, opposit, chang, labor, mp, minist, union, nt, local, act, group, expert\n",
      "8 : water, restrict, plan, suppli, irrig, council, murray, use, price, govt, urg, save, farmer, ban, resid, drink, boost, new, author, rise, say, sa, river, nsw, lake\n",
      "9 : health, fear, mental, servic, minist, spark, air, plan, qld, worker, indigen, job, fund, hospit, new, cut, doctor, union, group, say, impact, care, coronavirus, govt, warn\n",
      "\n",
      "\n",
      "Number of clusters:  15\n",
      "0 : new, zealand, law, year, case, plan, record, council, open, australia, home, polic, centr, deal, set, announc, hope, coronavirus, south, nsw, appoint, look, covid, wa, minist\n",
      "1 : say, polic, need, minist, expert, govt, trump, plan, mp, australia, council, union, govern, report, pm, wont, labor, group, public, new, opposit, chang, health, time, wa\n",
      "2 : plan, australia, council, court, kill, charg, report, warn, death, face, water, interview, nsw, chang, year, day, crash, elect, open, attack, hit, world, hous, wa, set\n",
      "3 : sydney, home, ban, nurs, return, hobart, match, face, nsw, smoke, western, lift, water, charg, hous, woman, hit, melbourn, destroy, resid, year, south, coronavirus, court, bushfir\n",
      "4 : polic, investig, probe, offic, hunt, arrest, death, car, shoot, drug, charg, search, crash, driver, attack, murder, seek, fatal, suspect, assault, raid, protest, warn, alleg, seiz\n",
      "5 : school, student, high, fund, teacher, new, parent, plan, children, bus, kid, close, public, closur, govt, polic, nsw, program, educ, privat, year, charg, teen, coronavirus, open\n",
      "6 : claim, reject, titl, deni, victori, govt, polic, win, probe, abus, investig, dismiss, blaze, union, sex, labor, live, group, elect, court, council, opposit, hous, new, attack\n",
      "7 : miss, dead, search, man, polic, woman, crash, fear, bodi, shot, near, plane, continu, boy, teen, safe, famili, leav, boat, injur, tourist, clash, girl, attack, car\n",
      "8 : australian, open, year, share, dollar, south, market, win, new, china, say, kill, fall, coronavirus, help, day, team, soldier, chines, die, govern, young, women, arrest, png\n",
      "9 : hospit, patient, man, new, fund, doctor, health, staff, crash, royal, plan, children, die, nurs, leav, govt, death, woman, wait, servic, perth, emerg, car, revamp, say\n",
      "10 : man, charg, murder, jail, court, polic, die, stab, arrest, face, assault, accus, kill, death, guilti, attack, car, crash, child, shoot, alleg, sydney, sex, plead, woman\n",
      "11 : countri, hour, tas, nsw, vic, wa, big, august, sa, qld, juli, nt, march, music, monday, friday, citi, victorian, town, liber, th, club, high, festiv, origin\n",
      "12 : power, continu, station, price, plan, search, storm, solar, cut, investig, fight, protest, plant, rise, push, nuclear, clean, nsw, qld, western, home, flood, work, talk, council\n",
      "13 : govt, urg, fund, council, boost, plan, feder, health, qld, help, nsw, water, cut, vic, wa, group, public, sa, consid, chang, act, local, road, govern, region\n",
      "14 : win, award, cup, titl, gold, open, stage, world, final, tour, elect, australia, lead, seri, aussi, grand, second, england, big, race, battl, m, record, beat, sydney\n",
      "\n",
      "\n"
     ]
    }
   ],
   "source": [
    "N_clusters = [3, 5, 7, 10, 15]\n",
    "\n",
    "for n in N_clusters:\n",
    "    kmeans = KMeans(n_clusters=n, init='k-means++', max_iter=300, n_init=10, random_state=0)\n",
    "    kmeans.fit(X3)\n",
    "    common_words = kmeans.cluster_centers_.argsort()[:,-1:-26:-1]\n",
    "    print(\"Number of clusters: \", n)\n",
    "    for num, centroid in enumerate(common_words):\n",
    "        print(str(num) + ' : ' + ', '.join(words[word] for word in centroid))\n",
    "    print('\\n')"
   ]
  },
  {
   "cell_type": "code",
   "execution_count": null,
   "metadata": {},
   "outputs": [],
   "source": []
  }
 ],
 "metadata": {
  "kernelspec": {
   "display_name": "Python 3",
   "language": "python",
   "name": "python3"
  },
  "language_info": {
   "codemirror_mode": {
    "name": "ipython",
    "version": 3
   },
   "file_extension": ".py",
   "mimetype": "text/x-python",
   "name": "python",
   "nbconvert_exporter": "python",
   "pygments_lexer": "ipython3",
   "version": "3.9.18"
  }
 },
 "nbformat": 4,
 "nbformat_minor": 2
}
