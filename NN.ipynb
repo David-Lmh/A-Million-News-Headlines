{
 "cells": [
  {
   "cell_type": "code",
   "execution_count": 1,
   "metadata": {},
   "outputs": [
    {
     "name": "stderr",
     "output_type": "stream",
     "text": [
      "C:\\Users\\lmh23\\AppData\\Local\\Temp\\ipykernel_18960\\2252302552.py:3: DeprecationWarning: \n",
      "Pyarrow will become a required dependency of pandas in the next major release of pandas (pandas 3.0),\n",
      "(to allow more performant data types, such as the Arrow string type, and better interoperability with other libraries)\n",
      "but was not found to be installed on your system.\n",
      "If this would cause problems for you,\n",
      "please provide us feedback at https://github.com/pandas-dev/pandas/issues/54466\n",
      "        \n",
      "  import pandas as pd\n"
     ]
    }
   ],
   "source": [
    "import matplotlib.pyplot as plt\n",
    "import numpy as np\n",
    "import pandas as pd\n",
    "import tensorflow as tf\n",
    "from collections import Counter\n",
    "\n",
    "from sklearn.model_selection import train_test_split\n",
    "from tensorflow.keras.layers import Input, Dense, Embedding, Flatten\n",
    "from tensorflow.keras.models import Model\n",
    "from tensorflow.keras.preprocessing.text import Tokenizer\n",
    "from tensorflow.keras.preprocessing.sequence import pad_sequences\n",
    "from sklearn.feature_extraction.text import CountVectorizer, TfidfVectorizer\n",
    "from sklearn.decomposition import LatentDirichletAllocation\n",
    "from sklearn.decomposition import TruncatedSVD\n"
   ]
  },
  {
   "cell_type": "markdown",
   "metadata": {},
   "source": [
    "CountVectorizer"
   ]
  },
  {
   "cell_type": "code",
   "execution_count": 2,
   "metadata": {},
   "outputs": [],
   "source": [
    "data = pd.read_csv('archive/abcnews-date-text.csv')\n",
    "data = data.sample(100000)\n",
    "\n",
    "# Choose a vectorizer\n",
    "count_vectorizer = CountVectorizer(stop_words='english', max_df=0.95, min_df=2, max_features=2000)\n",
    "count_X = count_vectorizer.fit_transform(data['headline_text'])\n",
    "count_X_array = count_X.toarray()\n",
    "\n",
    "# Define the autoencoder architecture\n",
    "count_input_dim = count_X.shape[1]  # This will be the number of features (max_features)\n",
    "count_encoding_dim = 64"
   ]
  },
  {
   "cell_type": "code",
   "execution_count": 3,
   "metadata": {},
   "outputs": [],
   "source": [
    "count_input_layer = Input(shape=(count_input_dim,))\n",
    "count_encoded = Dense(count_encoding_dim, activation='relu')(count_input_layer)\n",
    "count_decoded = Dense(count_input_dim, activation='sigmoid')(count_encoded)"
   ]
  },
  {
   "cell_type": "code",
   "execution_count": 4,
   "metadata": {},
   "outputs": [],
   "source": [
    "count_autoencoder = Model(count_input_layer, count_decoded)\n",
    "count_encoder = Model(count_input_layer, count_encoded)"
   ]
  },
  {
   "cell_type": "code",
   "execution_count": 5,
   "metadata": {},
   "outputs": [
    {
     "name": "stdout",
     "output_type": "stream",
     "text": [
      "Epoch 1/10\n",
      "\u001b[1m6250/6250\u001b[0m \u001b[32m━━━━━━━━━━━━━━━━━━━━\u001b[0m\u001b[37m\u001b[0m \u001b[1m8s\u001b[0m 1ms/step - loss: 0.0177\n",
      "Epoch 2/10\n",
      "\u001b[1m6250/6250\u001b[0m \u001b[32m━━━━━━━━━━━━━━━━━━━━\u001b[0m\u001b[37m\u001b[0m \u001b[1m7s\u001b[0m 1ms/step - loss: 0.0016\n",
      "Epoch 3/10\n",
      "\u001b[1m6250/6250\u001b[0m \u001b[32m━━━━━━━━━━━━━━━━━━━━\u001b[0m\u001b[37m\u001b[0m \u001b[1m8s\u001b[0m 1ms/step - loss: 0.0015\n",
      "Epoch 4/10\n",
      "\u001b[1m6250/6250\u001b[0m \u001b[32m━━━━━━━━━━━━━━━━━━━━\u001b[0m\u001b[37m\u001b[0m \u001b[1m8s\u001b[0m 1ms/step - loss: 0.0013\n",
      "Epoch 5/10\n",
      "\u001b[1m6250/6250\u001b[0m \u001b[32m━━━━━━━━━━━━━━━━━━━━\u001b[0m\u001b[37m\u001b[0m \u001b[1m7s\u001b[0m 1ms/step - loss: 0.0011\n",
      "Epoch 6/10\n",
      "\u001b[1m6250/6250\u001b[0m \u001b[32m━━━━━━━━━━━━━━━━━━━━\u001b[0m\u001b[37m\u001b[0m \u001b[1m7s\u001b[0m 1ms/step - loss: 0.0011\n",
      "Epoch 7/10\n",
      "\u001b[1m6250/6250\u001b[0m \u001b[32m━━━━━━━━━━━━━━━━━━━━\u001b[0m\u001b[37m\u001b[0m \u001b[1m8s\u001b[0m 1ms/step - loss: 0.0011\n",
      "Epoch 8/10\n",
      "\u001b[1m6250/6250\u001b[0m \u001b[32m━━━━━━━━━━━━━━━━━━━━\u001b[0m\u001b[37m\u001b[0m \u001b[1m8s\u001b[0m 1ms/step - loss: 0.0011\n",
      "Epoch 9/10\n",
      "\u001b[1m6250/6250\u001b[0m \u001b[32m━━━━━━━━━━━━━━━━━━━━\u001b[0m\u001b[37m\u001b[0m \u001b[1m8s\u001b[0m 1ms/step - loss: 0.0011\n",
      "Epoch 10/10\n",
      "\u001b[1m6250/6250\u001b[0m \u001b[32m━━━━━━━━━━━━━━━━━━━━\u001b[0m\u001b[37m\u001b[0m \u001b[1m8s\u001b[0m 1ms/step - loss: 0.0011\n"
     ]
    },
    {
     "data": {
      "text/plain": [
       "<keras.src.callbacks.history.History at 0x1f962051970>"
      ]
     },
     "execution_count": 5,
     "metadata": {},
     "output_type": "execute_result"
    }
   ],
   "source": [
    "count_autoencoder.compile(optimizer='adam', loss='mse')\n",
    "\n",
    "\n",
    "# Train the autoencoder\n",
    "count_autoencoder.fit(count_X_array, count_X_array,\n",
    "                epochs=10,\n",
    "                batch_size=16,\n",
    "                shuffle=True,)"
   ]
  },
  {
   "cell_type": "code",
   "execution_count": 6,
   "metadata": {},
   "outputs": [
    {
     "data": {
      "image/png": "[encoded data removed]",
      "text/plain": [
       "<Figure size 640x480 with 1 Axes>"
      ]
     },
     "metadata": {},
     "output_type": "display_data"
    }
   ],
   "source": [
    "# plot the loss\n",
    "plt.plot(count_autoencoder.history.history['loss'])\n",
    "plt.title('Autoencoder loss with count vectorizer')\n",
    "plt.ylabel('loss')\n",
    "plt.xlabel('epoch')\n",
    "plt.show()"
   ]
  },
  {
   "cell_type": "code",
   "execution_count": 7,
   "metadata": {},
   "outputs": [
    {
     "name": "stdout",
     "output_type": "stream",
     "text": [
      "\u001b[1m3125/3125\u001b[0m \u001b[32m━━━━━━━━━━━━━━━━━━━━\u001b[0m\u001b[37m\u001b[0m \u001b[1m1s\u001b[0m 467us/step\n"
     ]
    },
    {
     "data": {
      "text/plain": [
       "array([[2.6991365 , 0.9580086 , 1.7357559 , ..., 2.16622   , 1.3899181 ,\n",
       "        0.10093176],\n",
       "       [2.3724513 , 0.        , 2.1853876 , ..., 1.1251043 , 2.4452672 ,\n",
       "        0.6271227 ],\n",
       "       [0.        , 3.2736285 , 2.2401948 , ..., 2.179096  , 0.16936886,\n",
       "        1.6408957 ],\n",
       "       ...,\n",
       "       [1.6551266 , 1.7569852 , 1.0702589 , ..., 1.9583993 , 1.1432877 ,\n",
       "        0.5410061 ],\n",
       "       [1.2100067 , 3.5134637 , 0.33164698, ..., 0.7297628 , 1.6113901 ,\n",
       "        1.1505767 ],\n",
       "       [1.2584571 , 1.5203083 , 1.3191835 , ..., 1.3319589 , 1.3023115 ,\n",
       "        1.3579388 ]], dtype=float32)"
      ]
     },
     "execution_count": 7,
     "metadata": {},
     "output_type": "execute_result"
    }
   ],
   "source": [
    "# Get the encoded representation of the data\n",
    "count_encoded_data = count_encoder.predict(count_X_array)\n",
    "\n",
    "count_encoded_data"
   ]
  },
  {
   "cell_type": "code",
   "execution_count": 8,
   "metadata": {},
   "outputs": [
    {
     "name": "stdout",
     "output_type": "stream",
     "text": [
      "\u001b[1m3125/3125\u001b[0m \u001b[32m━━━━━━━━━━━━━━━━━━━━\u001b[0m\u001b[37m\u001b[0m \u001b[1m2s\u001b[0m 707us/step\n"
     ]
    },
    {
     "data": {
      "text/plain": [
       "array([[1.34368416e-09, 2.40900078e-10, 2.81792784e-10, ...,\n",
       "        2.29920652e-10, 3.17254500e-10, 2.08868908e-10],\n",
       "       [7.57209684e-10, 2.09336742e-10, 1.99462308e-10, ...,\n",
       "        2.10277559e-10, 1.44295936e-10, 1.51799393e-10],\n",
       "       [1.10430609e-10, 2.95084200e-11, 2.70402034e-11, ...,\n",
       "        2.82803329e-11, 2.69627463e-11, 1.49524854e-11],\n",
       "       ...,\n",
       "       [1.25997490e-09, 2.86886820e-10, 3.39675010e-10, ...,\n",
       "        3.14225340e-10, 3.85039473e-10, 2.25137534e-10],\n",
       "       [1.90549840e-10, 6.45039647e-11, 7.77983372e-11, ...,\n",
       "        6.56129179e-11, 6.34799435e-11, 3.43912884e-11],\n",
       "       [5.96348360e-10, 1.49161183e-10, 1.59191244e-10, ...,\n",
       "        1.65185116e-10, 1.28308128e-10, 1.13134814e-10]], dtype=float32)"
      ]
     },
     "execution_count": 8,
     "metadata": {},
     "output_type": "execute_result"
    }
   ],
   "source": [
    "# decode the encoded data\n",
    "count_reconstructed_data = count_autoencoder.predict(count_X_array)\n",
    "count_reconstructed_data"
   ]
  },
  {
   "cell_type": "code",
   "execution_count": 9,
   "metadata": {},
   "outputs": [],
   "source": [
    "# decode the data\n",
    "# decoded_data = autoencoder.predict(count_X_array)\n",
    "# decoded_data"
   ]
  },
  {
   "cell_type": "code",
   "execution_count": 10,
   "metadata": {},
   "outputs": [],
   "source": [
    "def get_keys(topic_matrix):\n",
    "    '''\n",
    "    returns an integer list of predicted topic \n",
    "    categories for a given topic matrix\n",
    "    '''\n",
    "    keys = topic_matrix.argmax(axis=1).tolist()\n",
    "    return keys\n",
    "\n",
    "def keys_to_counts(keys):\n",
    "    '''\n",
    "    returns a tuple of topic categories and their \n",
    "    accompanying magnitudes for a given list of keys\n",
    "    '''\n",
    "    count_pairs = Counter(keys).items()\n",
    "    categories = [pair[0] for pair in count_pairs]\n",
    "    counts = [pair[1] for pair in count_pairs]\n",
    "    return (categories, counts)"
   ]
  },
  {
   "cell_type": "code",
   "execution_count": 11,
   "metadata": {},
   "outputs": [],
   "source": [
    "# put the data back into a lsa\n",
    "\n",
    "\n",
    "n_topics = 10\n",
    "count_lsa_model = TruncatedSVD(n_components=n_topics)\n",
    "count_lsa_topic_matrix = count_lsa_model.fit_transform(count_reconstructed_data)\n",
    "\n",
    "count_lsa_keys = get_keys(count_lsa_topic_matrix)\n",
    "count_lsa_categories, lsa_counts = keys_to_counts(count_lsa_keys)\n"
   ]
  },
  {
   "cell_type": "code",
   "execution_count": 12,
   "metadata": {},
   "outputs": [],
   "source": [
    "def get_top_n_words(n, keys, document_term_matrix, count_vectorizer):\n",
    "    '''\n",
    "    Returns a list of n_topic strings, where each string contains the n most common \n",
    "    words in a predicted category, in order.\n",
    "    '''\n",
    "    top_words = []\n",
    "    for topic in range(n_topics):\n",
    "        mask = np.array(keys) == topic  # Create a boolean mask where the keys match the topic\n",
    "        temp_vector_sum = np.sum(document_term_matrix[mask], axis=0)  # Sum the vectors for the topic\n",
    "        \n",
    "        # Handle different possible data types of temp_vector_sum\n",
    "        if isinstance(temp_vector_sum, np.matrix):\n",
    "            temp_vector_sum = temp_vector_sum.A1  # Convert matrix to 1D numpy array\n",
    "        elif isinstance(temp_vector_sum, np.ndarray) and temp_vector_sum.ndim > 1:\n",
    "            temp_vector_sum = temp_vector_sum.flatten()  # Flatten if it's a multidimensional numpy array\n",
    "        elif hasattr(temp_vector_sum, 'toarray'):  # Check if it's a sparse matrix\n",
    "            temp_vector_sum = temp_vector_sum.toarray().flatten()  # Convert sparse matrix to 1D numpy array\n",
    "\n",
    "        top_n_word_indices = np.argsort(temp_vector_sum)[-n:][::-1]  # Get indices of top n words\n",
    "        topic_words = [count_vectorizer.get_feature_names_out()[index] for index in top_n_word_indices]\n",
    "        top_words.append(\" \".join(topic_words))\n",
    "    return top_words"
   ]
  },
  {
   "cell_type": "code",
   "execution_count": 13,
   "metadata": {},
   "outputs": [
    {
     "name": "stdout",
     "output_type": "stream",
     "text": [
      "Topic 0:  police death crash car missing | Topic Count: 54942\n",
      "Topic 1:  new year years life laws | Topic Count: 8863\n",
      "Topic 2:  man charged dies murder jailed | Topic Count: 9321\n",
      "Topic 3:  says pm minister trump deal | Topic Count: 5159\n",
      "Topic 4:  govt wa plan water qld | Topic Count: 3324\n",
      "Topic 5:  australia day world cup win | Topic Count: 5367\n",
      "Topic 6:  court accused face trial case | Topic Count: 6441\n",
      "Topic 7:  council seeks plan plans land | Topic Count: 3604\n",
      "Topic 8:  nsw australian sydney coast north | Topic Count: 1334\n",
      "Topic 9:  interview killed sydney extended michael | Topic Count: 1645\n"
     ]
    }
   ],
   "source": [
    "top_n_words_lsa = get_top_n_words(5, count_lsa_keys, count_X, count_vectorizer)\n",
    "for i in range(len(top_n_words_lsa)):\n",
    "    print('Topic {}: '.format(i), top_n_words_lsa[i], end='')\n",
    "    print(' | Topic Count: {}'.format(lsa_counts[i]))"
   ]
  },
  {
   "cell_type": "code",
   "execution_count": 14,
   "metadata": {},
   "outputs": [],
   "source": [
    "# lda model\n",
    "\n",
    "count_lda_model = LatentDirichletAllocation(n_components=n_topics, learning_method='online', random_state=42, verbose=0)\n",
    "count_lda_topic_matrix = count_lda_model.fit_transform(count_reconstructed_data)\n",
    "\n",
    "count_lda_keys = get_keys(count_lda_topic_matrix)\n",
    "count_lda_categories, lda_counts = keys_to_counts(count_lda_keys)"
   ]
  },
  {
   "cell_type": "code",
   "execution_count": 15,
   "metadata": {},
   "outputs": [
    {
     "name": "stdout",
     "output_type": "stream",
     "text": [
      "finished 0 of 10 topics\n",
      "finished 1 of 10 topics\n",
      "finished 2 of 10 topics\n",
      "finished 3 of 10 topics\n",
      "finished 4 of 10 topics\n",
      "finished 5 of 10 topics\n",
      "finished 6 of 10 topics\n",
      "finished 7 of 10 topics\n",
      "finished 8 of 10 topics\n",
      "finished 9 of 10 topics\n",
      "Topic 0: plan wa health sydney farmers | Topic Count: 38034\n",
      "Topic 1: day hospital china news government | Topic Count: 6402\n",
      "Topic 2: interview missing search dead minister | Topic Count: 6781\n",
      "Topic 3: charged murder man wins child | Topic Count: 8054\n",
      "Topic 4: man australia court sa set | Topic Count: 7107\n",
      "Topic 5: govt report claims plans group | Topic Count: 6487\n",
      "Topic 6: council death attack budget iraq | Topic Count: 11670\n",
      "Topic 7: police new says water win | Topic Count: 6275\n",
      "Topic 8: nsw north coast home queensland | Topic Count: 4570\n",
      "Topic 9: crash australian killed world car | Topic Count: 4620\n"
     ]
    }
   ],
   "source": [
    "\n",
    "\n",
    "results = []\n",
    "top_n_words_lda = get_top_n_words(5, count_lda_keys, count_X, count_vectorizer)\n",
    "for i in range(len(top_n_words_lda)):\n",
    "    result = f'Topic {i}: {top_n_words_lda[i]} | Topic Count: {lda_counts[i]}'\n",
    "    results.append(result)\n",
    "    print(f\"finished {i} of {len(top_n_words_lda)} topics\")\n",
    "\n",
    "for result in results:\n",
    "    print(result)"
   ]
  },
  {
   "cell_type": "code",
   "execution_count": 16,
   "metadata": {},
   "outputs": [],
   "source": [
    "# TfidfVectorizer\n",
    "tfidf_vectorizer = TfidfVectorizer(stop_words='english', max_df=0.95, min_df=2, max_features=2000)\n",
    "tfidf_X = tfidf_vectorizer.fit_transform(data['headline_text'])\n",
    "tfidf_X_array = tfidf_X.toarray()\n",
    "\n",
    "# Define the autoencoder architecture\n",
    "tfidf_input_dim = tfidf_X.shape[1]  # This will be the number of features (max_features)\n",
    "tfidf_encoding_dim = 64\n",
    "\n",
    "tfidf_input_layer = Input(shape=(tfidf_input_dim,))\n",
    "tfidf_encoded = Dense(tfidf_encoding_dim, activation='relu')(tfidf_input_layer)\n",
    "tfidf_decoded = Dense(tfidf_input_dim, activation='sigmoid')(tfidf_encoded)\n",
    "\n",
    "tfidf_autoencoder = Model(tfidf_input_layer, tfidf_decoded)\n",
    "tfidf_encoder = Model(tfidf_input_layer, tfidf_encoded)"
   ]
  },
  {
   "cell_type": "code",
   "execution_count": 17,
   "metadata": {},
   "outputs": [
    {
     "name": "stdout",
     "output_type": "stream",
     "text": [
      "Epoch 1/10\n",
      "\u001b[1m6250/6250\u001b[0m \u001b[32m━━━━━━━━━━━━━━━━━━━━\u001b[0m\u001b[37m\u001b[0m \u001b[1m8s\u001b[0m 1ms/step - loss: 0.0173\n",
      "Epoch 2/10\n",
      "\u001b[1m6250/6250\u001b[0m \u001b[32m━━━━━━━━━━━━━━━━━━━━\u001b[0m\u001b[37m\u001b[0m \u001b[1m7s\u001b[0m 1ms/step - loss: 4.8660e-04\n",
      "Epoch 3/10\n",
      "\u001b[1m6250/6250\u001b[0m \u001b[32m━━━━━━━━━━━━━━━━━━━━\u001b[0m\u001b[37m\u001b[0m \u001b[1m7s\u001b[0m 1ms/step - loss: 4.8085e-04\n",
      "Epoch 4/10\n",
      "\u001b[1m6250/6250\u001b[0m \u001b[32m━━━━━━━━━━━━━━━━━━━━\u001b[0m\u001b[37m\u001b[0m \u001b[1m7s\u001b[0m 1ms/step - loss: 4.7260e-04\n",
      "Epoch 5/10\n",
      "\u001b[1m6250/6250\u001b[0m \u001b[32m━━━━━━━━━━━━━━━━━━━━\u001b[0m\u001b[37m\u001b[0m \u001b[1m8s\u001b[0m 1ms/step - loss: 4.6092e-04\n",
      "Epoch 6/10\n",
      "\u001b[1m6250/6250\u001b[0m \u001b[32m━━━━━━━━━━━━━━━━━━━━\u001b[0m\u001b[37m\u001b[0m \u001b[1m8s\u001b[0m 1ms/step - loss: 4.4805e-04\n",
      "Epoch 7/10\n",
      "\u001b[1m6250/6250\u001b[0m \u001b[32m━━━━━━━━━━━━━━━━━━━━\u001b[0m\u001b[37m\u001b[0m \u001b[1m8s\u001b[0m 1ms/step - loss: 4.3489e-04\n",
      "Epoch 8/10\n",
      "\u001b[1m6250/6250\u001b[0m \u001b[32m━━━━━━━━━━━━━━━━━━━━\u001b[0m\u001b[37m\u001b[0m \u001b[1m8s\u001b[0m 1ms/step - loss: 4.2397e-04\n",
      "Epoch 9/10\n",
      "\u001b[1m6250/6250\u001b[0m \u001b[32m━━━━━━━━━━━━━━━━━━━━\u001b[0m\u001b[37m\u001b[0m \u001b[1m8s\u001b[0m 1ms/step - loss: 4.1401e-04\n",
      "Epoch 10/10\n",
      "\u001b[1m6250/6250\u001b[0m \u001b[32m━━━━━━━━━━━━━━━━━━━━\u001b[0m\u001b[37m\u001b[0m \u001b[1m8s\u001b[0m 1ms/step - loss: 4.0683e-04\n"
     ]
    },
    {
     "data": {
      "image/png": "[encoded data removed]",
      "text/plain": [
       "<Figure size 640x480 with 1 Axes>"
      ]
     },
     "metadata": {},
     "output_type": "display_data"
    }
   ],
   "source": [
    "tfidf_autoencoder.compile(optimizer='adam', loss='mse')\n",
    "\n",
    "# Train the autoencoder\n",
    "tfidf_autoencoder.fit(tfidf_X_array, tfidf_X_array,\n",
    "                epochs=10,\n",
    "                batch_size=16,\n",
    "                shuffle=True,)\n",
    "\n",
    "# plot the loss\n",
    "plt.plot(tfidf_autoencoder.history.history['loss'])\n",
    "plt.title('Autoencoder loss with tfidf vectorizer')\n",
    "plt.ylabel('loss')\n",
    "plt.xlabel('epoch')\n",
    "plt.show()\n",
    "\n"
   ]
  },
  {
   "cell_type": "code",
   "execution_count": 18,
   "metadata": {},
   "outputs": [
    {
     "name": "stdout",
     "output_type": "stream",
     "text": [
      "\u001b[1m3125/3125\u001b[0m \u001b[32m━━━━━━━━━━━━━━━━━━━━\u001b[0m\u001b[37m\u001b[0m \u001b[1m1s\u001b[0m 467us/step\n",
      "\u001b[1m3125/3125\u001b[0m \u001b[32m━━━━━━━━━━━━━━━━━━━━\u001b[0m\u001b[37m\u001b[0m \u001b[1m2s\u001b[0m 682us/step\n",
      "Topic 0:  australia nsw sydney wa day | Topic Count: 80406\n",
      "Topic 1:  interview extended michael john james | Topic Count: 2572\n",
      "Topic 2:  man charged police murder missing | Topic Count: 2948\n",
      "Topic 3:  police probe investigate hunt say | Topic Count: 2228\n",
      "Topic 4:  new zealand york laws cases | Topic Count: 2795\n",
      "Topic 5:  says minister pm govt opposition | Topic Count: 1687\n",
      "Topic 6:  court face accused charges australia | Topic Count: 2519\n",
      "Topic 7:  council govt plan water urged | Topic Count: 1805\n",
      "Topic 8:  crash killed car fatal dies | Topic Count: 1782\n",
      "Topic 9:  australian rural abc news market | Topic Count: 1258\n"
     ]
    }
   ],
   "source": [
    "# Get the encoded representation of the data\n",
    "tfidf_encoded_data = tfidf_encoder.predict(tfidf_X_array)\n",
    "\n",
    "# decode the encoded data\n",
    "tfidf_reconstructed_data = tfidf_autoencoder.predict(tfidf_X_array)\n",
    "\n",
    "\n",
    "n_topics = 10\n",
    "tfidf_lsa_model = TruncatedSVD(n_components=n_topics)\n",
    "tfidf_lsa_topic_matrix = tfidf_lsa_model.fit_transform(tfidf_reconstructed_data)\n",
    "\n",
    "tfidf_lsa_keys = get_keys(tfidf_lsa_topic_matrix)\n",
    "tfidf_lsa_categories, tfidf_lsa_counts = keys_to_counts(tfidf_lsa_keys)\n",
    "\n",
    "top_n_words_tfidf_lsa = get_top_n_words(5, tfidf_lsa_keys, tfidf_X, tfidf_vectorizer)\n",
    "for i in range(len(top_n_words_tfidf_lsa)):\n",
    "    print('Topic {}: '.format(i), top_n_words_tfidf_lsa[i], end='')\n",
    "    print(' | Topic Count: {}'.format(tfidf_lsa_counts[i]))\n"
   ]
  },
  {
   "cell_type": "code",
   "execution_count": 19,
   "metadata": {},
   "outputs": [
    {
     "name": "stdout",
     "output_type": "stream",
     "text": [
      "finished 0 of 10 topics\n",
      "finished 1 of 10 topics\n",
      "finished 2 of 10 topics\n",
      "finished 3 of 10 topics\n",
      "finished 4 of 10 topics\n",
      "finished 5 of 10 topics\n",
      "finished 6 of 10 topics\n",
      "finished 7 of 10 topics\n",
      "finished 8 of 10 topics\n",
      "finished 9 of 10 topics\n",
      "Topic 0: police australia sydney missing home | Topic Count: 6129\n",
      "Topic 1: health report sa school indigenous | Topic Count: 56896\n",
      "Topic 2: crash killed dies car wa | Topic Count: 4205\n",
      "Topic 3: says calls election china talks | Topic Count: 8729\n",
      "Topic 4: man court charged murder world | Topic Count: 8007\n",
      "Topic 5: abc news rural national sport | Topic Count: 6066\n",
      "Topic 6: council death set plans claims | Topic Count: 451\n",
      "Topic 7: new nsw water plan labor | Topic Count: 3138\n",
      "Topic 8: interview wins michael extended john | Topic Count: 5250\n",
      "Topic 9: australian govt qld south urged | Topic Count: 1129\n"
     ]
    }
   ],
   "source": [
    "tfidf_lda_model = LatentDirichletAllocation(n_components=n_topics, learning_method='online', random_state=42, verbose=0)\n",
    "tfidf_lda_topic_matrix = tfidf_lda_model.fit_transform(tfidf_reconstructed_data)\n",
    "\n",
    "tfidf_lda_keys = get_keys(tfidf_lda_topic_matrix)\n",
    "tfidf_lda_categories, tfidf_lda_counts = keys_to_counts(tfidf_lda_keys)\n",
    "\n",
    "results = []\n",
    "top_n_words_tfidf_lda = get_top_n_words(5, tfidf_lda_keys, tfidf_X, tfidf_vectorizer)\n",
    "for i in range(len(top_n_words_tfidf_lda)):\n",
    "    result = f'Topic {i}: {top_n_words_tfidf_lda[i]} | Topic Count: {tfidf_lda_counts[i]}'\n",
    "    results.append(result)\n",
    "    print(f\"finished {i} of {len(top_n_words_tfidf_lda)} topics\")\n",
    "\n",
    "for result in results:\n",
    "    print(result)"
   ]
  },
  {
   "cell_type": "code",
   "execution_count": 20,
   "metadata": {},
   "outputs": [
    {
     "name": "stdout",
     "output_type": "stream",
     "text": [
      "LSA Count Coherence: 0.32820146765138375\n",
      "LSA Tfidf Coherence: 0.3659741869372394\n",
      "LDA Count Coherence: 0.34117976843248665\n",
      "LDA Tfidf Coherence: 0.35114235607121747\n"
     ]
    }
   ],
   "source": [
    "# evaluate the model\n",
    "# 1. coherence score\n",
    "from gensim.models import CoherenceModel\n",
    "from gensim.corpora import Dictionary\n",
    "\n",
    "def get_topics(model, feature_names, n_top_words):\n",
    "    topics = []\n",
    "    for topic_idx, topic in enumerate(model.components_):\n",
    "        topics.append(\" \".join([feature_names[i] for i in topic.argsort()[:-n_top_words - 1:-1]]))\n",
    "    return topics\n",
    "\n",
    "def get_coherence_score(documents, topics):\n",
    "    dictionary = Dictionary(documents)\n",
    "    corpus = [dictionary.doc2bow(doc) for doc in documents]\n",
    "    cm = CoherenceModel(topics=topics, texts=documents, dictionary=dictionary, coherence='c_v')\n",
    "    return cm.get_coherence()\n",
    "\n",
    "# get the topics\n",
    "lsa_count_topics = get_topics(count_lsa_model, count_vectorizer.get_feature_names_out(), 5)\n",
    "lsa_tfidf_topics = get_topics(tfidf_lsa_model, tfidf_vectorizer.get_feature_names_out(), 5)\n",
    "lda_count_topics = get_topics(count_lda_model, count_vectorizer.get_feature_names_out(), 5)\n",
    "lda_tfidf_topics = get_topics(tfidf_lda_model, tfidf_vectorizer.get_feature_names_out(), 5)\n",
    "\n",
    "# get the coherence score\n",
    "documents = data['headline_text'].apply(lambda x: x.split())\n",
    "lsa_count_coherence = get_coherence_score(documents, lsa_count_topics)\n",
    "lsa_tfidf_coherence = get_coherence_score(documents, lsa_tfidf_topics)\n",
    "lda_count_coherence = get_coherence_score(documents, lda_count_topics)\n",
    "lda_tfidf_coherence = get_coherence_score(documents, lda_tfidf_topics)\n",
    "\n",
    "print(f'LSA Count Coherence: {lsa_count_coherence}')\n",
    "print(f'LSA Tfidf Coherence: {lsa_tfidf_coherence}')\n",
    "print(f'LDA Count Coherence: {lda_count_coherence}')\n",
    "print(f'LDA Tfidf Coherence: {lda_tfidf_coherence}')"
   ]
  },
  {
   "cell_type": "code",
   "execution_count": 31,
   "metadata": {},
   "outputs": [
    {
     "name": "stdout",
     "output_type": "stream",
     "text": [
      "LSA Count Coverage: 0.27694\n",
      "LSA Tfidf Coverage: 0.3162\n",
      "LDA Count Coverage: 0.41772\n",
      "LDA Tfidf Coverage: 0.37215\n"
     ]
    }
   ],
   "source": [
    "# coverage\n",
    "def get_topic_coverage(topic_matrix, document_term_matrix, threshold):\n",
    "    '''\n",
    "    returns the proportion of documents that are \n",
    "    assigned a topic with a proportion greater than \n",
    "    the threshold\n",
    "    '''\n",
    "    topic_proportions = np.max(topic_matrix, axis=1)\n",
    "    return np.sum(topic_proportions > threshold) / len(topic_proportions)\n",
    "\n",
    "lsa_count_coverage = get_topic_coverage(count_lsa_topic_matrix, count_X, 0.1)\n",
    "lsa_tfidf_coverage = get_topic_coverage(tfidf_lsa_topic_matrix, tfidf_X, 0.1)\n",
    "lda_count_coverage = get_topic_coverage(count_lda_topic_matrix, count_X, 0.5)\n",
    "lda_tfidf_coverage = get_topic_coverage(tfidf_lda_topic_matrix, tfidf_X, 0.7)\n",
    "\n",
    "print(f'LSA Count Coverage: {lsa_count_coverage}')\n",
    "print(f'LSA Tfidf Coverage: {lsa_tfidf_coverage}')\n",
    "print(f'LDA Count Coverage: {lda_count_coverage}')\n",
    "print(f'LDA Tfidf Coverage: {lda_tfidf_coverage}')"
   ]
  },
  {
   "cell_type": "code",
   "execution_count": 33,
   "metadata": {},
   "outputs": [
    {
     "name": "stdout",
     "output_type": "stream",
     "text": [
      "LDA Count Perplexity: 3303108.0290870266\n",
      "LDA Tfidf Perplexity: 6945.062698494799\n"
     ]
    }
   ],
   "source": [
    "# perplexity\n",
    "def get_perplexity(model, document_term_matrix):\n",
    "    return model.perplexity(document_term_matrix)\n",
    "\n",
    "# lsa_count_perplexity = get_perplexity(count_lda_model, count_X)\n",
    "# lsa_tfidf_perplexity = get_perplexity(tfidf_lda_model, tfidf_X)\n",
    "lda_count_perplexity = get_perplexity(count_lda_model, count_X)\n",
    "lda_tfidf_perplexity = get_perplexity(tfidf_lda_model, tfidf_X)\n",
    "print(f'LDA Count Perplexity: {lda_count_perplexity}')\n",
    "print(f'LDA Tfidf Perplexity: {lda_tfidf_perplexity}')"
   ]
  },
  {
   "cell_type": "code",
   "execution_count": null,
   "metadata": {},
   "outputs": [],
   "source": []
  }
 ],
 "metadata": {
  "kernelspec": {
   "display_name": "Python 3",
   "language": "python",
   "name": "python3"
  },
  "language_info": {
   "codemirror_mode": {
    "name": "ipython",
    "version": 3
   },
   "file_extension": ".py",
   "mimetype": "text/x-python",
   "name": "python",
   "nbconvert_exporter": "python",
   "pygments_lexer": "ipython3",
   "version": "3.9.18"
  }
 },
 "nbformat": 4,
 "nbformat_minor": 2
}
