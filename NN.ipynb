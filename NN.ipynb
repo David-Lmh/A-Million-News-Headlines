{
 "cells": [
  {
   "cell_type": "code",
   "execution_count": 3,
   "metadata": {},
   "outputs": [
    {
     "name": "stderr",
     "output_type": "stream",
     "text": [
      "C:\\Users\\lmh23\\AppData\\Local\\Temp\\ipykernel_17276\\2252302552.py:3: DeprecationWarning: \n",
      "Pyarrow will become a required dependency of pandas in the next major release of pandas (pandas 3.0),\n",
      "(to allow more performant data types, such as the Arrow string type, and better interoperability with other libraries)\n",
      "but was not found to be installed on your system.\n",
      "If this would cause problems for you,\n",
      "please provide us feedback at https://github.com/pandas-dev/pandas/issues/54466\n",
      "        \n",
      "  import pandas as pd\n"
     ]
    }
   ],
   "source": [
    "import matplotlib.pyplot as plt\n",
    "import numpy as np\n",
    "import pandas as pd\n",
    "import tensorflow as tf\n",
    "from collections import Counter\n",
    "\n",
    "from sklearn.model_selection import train_test_split\n",
    "from tensorflow.keras.layers import Input, Dense, Embedding, Flatten\n",
    "from tensorflow.keras.models import Model\n",
    "from tensorflow.keras.preprocessing.text import Tokenizer\n",
    "from tensorflow.keras.preprocessing.sequence import pad_sequences\n",
    "from sklearn.feature_extraction.text import CountVectorizer, TfidfVectorizer\n",
    "from sklearn.decomposition import LatentDirichletAllocation\n",
    "from sklearn.decomposition import TruncatedSVD\n"
   ]
  },
  {
   "cell_type": "markdown",
   "metadata": {},
   "source": [
    "CountVectorizer"
   ]
  },
  {
   "cell_type": "code",
   "execution_count": 5,
   "metadata": {},
   "outputs": [],
   "source": [
    "data = pd.read_csv('archive/abcnews-date-text.csv')\n",
    "data = data.sample(100000)\n",
    "\n",
    "# Choose a vectorizer\n",
    "count_vectorizer = CountVectorizer(stop_words='english', max_df=0.95, min_df=2, max_features=2000)\n",
    "count_X = count_vectorizer.fit_transform(data['headline_text'])\n",
    "count_X_array = count_X.toarray()\n",
    "\n",
    "# Define the autoencoder architecture\n",
    "count_input_dim = count_X.shape[1]  # This will be the number of features (max_features)\n",
    "count_encoding_dim = 64"
   ]
  },
  {
   "cell_type": "code",
   "execution_count": 6,
   "metadata": {},
   "outputs": [],
   "source": [
    "count_input_layer = Input(shape=(count_input_dim,))\n",
    "count_encoded = Dense(count_encoding_dim, activation='relu')(count_input_layer)\n",
    "count_decoded = Dense(count_input_dim, activation='sigmoid')(count_encoded)"
   ]
  },
  {
   "cell_type": "code",
   "execution_count": 7,
   "metadata": {},
   "outputs": [],
   "source": [
    "count_autoencoder = Model(count_input_layer, count_decoded)\n",
    "count_encoder = Model(count_input_layer, count_encoded)"
   ]
  },
  {
   "cell_type": "code",
   "execution_count": 8,
   "metadata": {},
   "outputs": [
    {
     "name": "stdout",
     "output_type": "stream",
     "text": [
      "Epoch 1/10\n",
      "\u001b[1m6250/6250\u001b[0m \u001b[32m━━━━━━━━━━━━━━━━━━━━\u001b[0m\u001b[37m\u001b[0m \u001b[1m9s\u001b[0m 1ms/step - loss: 0.0176\n",
      "Epoch 2/10\n",
      "\u001b[1m6250/6250\u001b[0m \u001b[32m━━━━━━━━━━━━━━━━━━━━\u001b[0m\u001b[37m\u001b[0m \u001b[1m8s\u001b[0m 1ms/step - loss: 0.0017\n",
      "Epoch 3/10\n",
      "\u001b[1m6250/6250\u001b[0m \u001b[32m━━━━━━━━━━━━━━━━━━━━\u001b[0m\u001b[37m\u001b[0m \u001b[1m8s\u001b[0m 1ms/step - loss: 0.0015\n",
      "Epoch 4/10\n",
      "\u001b[1m6250/6250\u001b[0m \u001b[32m━━━━━━━━━━━━━━━━━━━━\u001b[0m\u001b[37m\u001b[0m \u001b[1m8s\u001b[0m 1ms/step - loss: 0.0013\n",
      "Epoch 5/10\n",
      "\u001b[1m6250/6250\u001b[0m \u001b[32m━━━━━━━━━━━━━━━━━━━━\u001b[0m\u001b[37m\u001b[0m \u001b[1m8s\u001b[0m 1ms/step - loss: 0.0012\n",
      "Epoch 6/10\n",
      "\u001b[1m6250/6250\u001b[0m \u001b[32m━━━━━━━━━━━━━━━━━━━━\u001b[0m\u001b[37m\u001b[0m \u001b[1m8s\u001b[0m 1ms/step - loss: 0.0011\n",
      "Epoch 7/10\n",
      "\u001b[1m6250/6250\u001b[0m \u001b[32m━━━━━━━━━━━━━━━━━━━━\u001b[0m\u001b[37m\u001b[0m \u001b[1m9s\u001b[0m 1ms/step - loss: 0.0011\n",
      "Epoch 8/10\n",
      "\u001b[1m6250/6250\u001b[0m \u001b[32m━━━━━━━━━━━━━━━━━━━━\u001b[0m\u001b[37m\u001b[0m \u001b[1m9s\u001b[0m 1ms/step - loss: 0.0011\n",
      "Epoch 9/10\n",
      "\u001b[1m6250/6250\u001b[0m \u001b[32m━━━━━━━━━━━━━━━━━━━━\u001b[0m\u001b[37m\u001b[0m \u001b[1m8s\u001b[0m 1ms/step - loss: 0.0011\n",
      "Epoch 10/10\n",
      "\u001b[1m6250/6250\u001b[0m \u001b[32m━━━━━━━━━━━━━━━━━━━━\u001b[0m\u001b[37m\u001b[0m \u001b[1m8s\u001b[0m 1ms/step - loss: 0.0011\n"
     ]
    },
    {
     "data": {
      "text/plain": [
       "<keras.src.callbacks.history.History at 0x1c49c39e790>"
      ]
     },
     "execution_count": 8,
     "metadata": {},
     "output_type": "execute_result"
    }
   ],
   "source": [
    "count_autoencoder.compile(optimizer='adam', loss='mse')\n",
    "\n",
    "\n",
    "# Train the autoencoder\n",
    "count_autoencoder.fit(count_X_array, count_X_array,\n",
    "                epochs=10,\n",
    "                batch_size=16,\n",
    "                shuffle=True,)"
   ]
  },
  {
   "cell_type": "code",
   "execution_count": 9,
   "metadata": {},
   "outputs": [
    {
     "data": {
      "image/png": "[encoded data removed]",
      "text/plain": [
       "<Figure size 640x480 with 1 Axes>"
      ]
     },
     "metadata": {},
     "output_type": "display_data"
    }
   ],
   "source": [
    "# plot the loss\n",
    "plt.plot(count_autoencoder.history.history['loss'])\n",
    "plt.title('Autoencoder loss with count vectorizer')\n",
    "plt.ylabel('loss')\n",
    "plt.xlabel('epoch')\n",
    "plt.show()"
   ]
  },
  {
   "cell_type": "code",
   "execution_count": 10,
   "metadata": {},
   "outputs": [
    {
     "name": "stdout",
     "output_type": "stream",
     "text": [
      "\u001b[1m3125/3125\u001b[0m \u001b[32m━━━━━━━━━━━━━━━━━━━━\u001b[0m\u001b[37m\u001b[0m \u001b[1m2s\u001b[0m 499us/step\n"
     ]
    },
    {
     "data": {
      "text/plain": [
       "array([[0.44446158, 2.682161  , 0.79346967, ..., 0.22058678, 1.7592689 ,\n",
       "        2.9401593 ],\n",
       "       [1.3337656 , 1.2789356 , 1.3615696 , ..., 1.3825428 , 1.3393244 ,\n",
       "        1.3580767 ],\n",
       "       [1.0027311 , 1.79639   , 1.9337517 , ..., 1.2164419 , 0.5255364 ,\n",
       "        3.5307624 ],\n",
       "       ...,\n",
       "       [1.988813  , 2.5834951 , 1.5195282 , ..., 1.125258  , 1.26489   ,\n",
       "        1.1002198 ],\n",
       "       [1.2200112 , 2.0216928 , 1.3993524 , ..., 2.018169  , 0.534514  ,\n",
       "        2.1325831 ],\n",
       "       [1.3595728 , 1.4147061 , 1.3512294 , ..., 1.4842024 , 1.2044727 ,\n",
       "        1.4542227 ]], dtype=float32)"
      ]
     },
     "execution_count": 10,
     "metadata": {},
     "output_type": "execute_result"
    }
   ],
   "source": [
    "# Get the encoded representation of the data\n",
    "count_encoded_data = count_encoder.predict(count_X_array)\n",
    "\n",
    "count_encoded_data"
   ]
  },
  {
   "cell_type": "code",
   "execution_count": 11,
   "metadata": {},
   "outputs": [
    {
     "name": "stdout",
     "output_type": "stream",
     "text": [
      "\u001b[1m3125/3125\u001b[0m \u001b[32m━━━━━━━━━━━━━━━━━━━━\u001b[0m\u001b[37m\u001b[0m \u001b[1m3s\u001b[0m 848us/step\n"
     ]
    },
    {
     "data": {
      "text/plain": [
       "array([[2.1117557e-09, 6.2146233e-10, 1.0817768e-09, ..., 5.3612031e-10,\n",
       "        4.1229362e-10, 2.9076783e-10],\n",
       "       [2.0800115e-09, 3.5799999e-10, 4.8697046e-10, ..., 3.4792522e-10,\n",
       "        2.8663086e-10, 1.9338081e-10],\n",
       "       [1.3234193e-10, 2.5924131e-11, 4.3503784e-11, ..., 2.1530102e-11,\n",
       "        2.3246001e-11, 2.5594948e-11],\n",
       "       ...,\n",
       "       [1.5260940e-09, 2.5867097e-10, 3.4401806e-10, ..., 2.2151102e-10,\n",
       "        1.5157922e-10, 1.1653567e-10],\n",
       "       [1.1455190e-09, 2.2648952e-10, 3.0116162e-10, ..., 1.7742748e-10,\n",
       "        1.4034007e-10, 1.0559312e-10],\n",
       "       [1.8013984e-09, 3.4228362e-10, 4.6087853e-10, ..., 3.3530428e-10,\n",
       "        2.6750738e-10, 1.7593729e-10]], dtype=float32)"
      ]
     },
     "execution_count": 11,
     "metadata": {},
     "output_type": "execute_result"
    }
   ],
   "source": [
    "# decode the encoded data\n",
    "count_reconstructed_data = count_autoencoder.predict(count_X_array)\n",
    "count_reconstructed_data"
   ]
  },
  {
   "cell_type": "code",
   "execution_count": 12,
   "metadata": {},
   "outputs": [],
   "source": [
    "# decode the data\n",
    "# decoded_data = autoencoder.predict(count_X_array)\n",
    "# decoded_data"
   ]
  },
  {
   "cell_type": "code",
   "execution_count": 13,
   "metadata": {},
   "outputs": [],
   "source": [
    "def get_keys(topic_matrix):\n",
    "    '''\n",
    "    returns an integer list of predicted topic \n",
    "    categories for a given topic matrix\n",
    "    '''\n",
    "    keys = topic_matrix.argmax(axis=1).tolist()\n",
    "    return keys\n",
    "\n",
    "def keys_to_counts(keys):\n",
    "    '''\n",
    "    returns a tuple of topic categories and their \n",
    "    accompanying magnitudes for a given list of keys\n",
    "    '''\n",
    "    count_pairs = Counter(keys).items()\n",
    "    categories = [pair[0] for pair in count_pairs]\n",
    "    counts = [pair[1] for pair in count_pairs]\n",
    "    return (categories, counts)"
   ]
  },
  {
   "cell_type": "code",
   "execution_count": 14,
   "metadata": {},
   "outputs": [],
   "source": [
    "# put the data back into a lsa\n",
    "\n",
    "\n",
    "n_topics = 10\n",
    "count_lsa_model = TruncatedSVD(n_components=n_topics)\n",
    "count_lsa_topic_matrix = count_lsa_model.fit_transform(count_reconstructed_data)\n",
    "\n",
    "count_lsa_keys = get_keys(count_lsa_topic_matrix)\n",
    "count_lsa_categories, lsa_counts = keys_to_counts(count_lsa_keys)\n"
   ]
  },
  {
   "cell_type": "code",
   "execution_count": 16,
   "metadata": {},
   "outputs": [],
   "source": [
    "def get_top_n_words(n, keys, document_term_matrix, count_vectorizer):\n",
    "    '''\n",
    "    Returns a list of n_topic strings, where each string contains the n most common \n",
    "    words in a predicted category, in order.\n",
    "    '''\n",
    "    top_words = []\n",
    "    for topic in range(n_topics):\n",
    "        mask = np.array(keys) == topic  # Create a boolean mask where the keys match the topic\n",
    "        temp_vector_sum = np.sum(document_term_matrix[mask], axis=0)  # Sum the vectors for the topic\n",
    "        \n",
    "        # Handle different possible data types of temp_vector_sum\n",
    "        if isinstance(temp_vector_sum, np.matrix):\n",
    "            temp_vector_sum = temp_vector_sum.A1  # Convert matrix to 1D numpy array\n",
    "        elif isinstance(temp_vector_sum, np.ndarray) and temp_vector_sum.ndim > 1:\n",
    "            temp_vector_sum = temp_vector_sum.flatten()  # Flatten if it's a multidimensional numpy array\n",
    "        elif hasattr(temp_vector_sum, 'toarray'):  # Check if it's a sparse matrix\n",
    "            temp_vector_sum = temp_vector_sum.toarray().flatten()  # Convert sparse matrix to 1D numpy array\n",
    "\n",
    "        top_n_word_indices = np.argsort(temp_vector_sum)[-n:][::-1]  # Get indices of top n words\n",
    "        topic_words = [count_vectorizer.get_feature_names_out()[index] for index in top_n_word_indices]\n",
    "        top_words.append(\" \".join(topic_words))\n",
    "    return top_words"
   ]
  },
  {
   "cell_type": "code",
   "execution_count": 32,
   "metadata": {},
   "outputs": [
    {
     "name": "stdout",
     "output_type": "stream",
     "text": [
      "Topic 0:  police crash car missing search | Topic Count: 59997\n",
      "Topic 1:  new year deal record laws | Topic Count: 6256\n",
      "Topic 2:  man charged dies killed murder | Topic Count: 2525\n",
      "Topic 3:  says pm minister trump labor | Topic Count: 4631\n",
      "Topic 4:  govt wa plan water qld | Topic Count: 4084\n",
      "Topic 5:  australia day world cup china | Topic Count: 1388\n",
      "Topic 6:  court accused death face case | Topic Count: 4236\n",
      "Topic 7:  council mayor plan considers water | Topic Count: 3714\n",
      "Topic 8:  nsw sydney coast government rural | Topic Count: 7290\n",
      "Topic 9:  interview australian open home extended | Topic Count: 5879\n"
     ]
    }
   ],
   "source": [
    "top_n_words_lsa = get_top_n_words(5, count_lsa_keys, count_X, count_vectorizer)\n",
    "for i in range(len(top_n_words_lsa)):\n",
    "    print('Topic {}: '.format(i), top_n_words_lsa[i], end='')\n",
    "    print(' | Topic Count: {}'.format(lsa_counts[i]))"
   ]
  },
  {
   "cell_type": "code",
   "execution_count": 19,
   "metadata": {},
   "outputs": [
    {
     "ename": "KeyboardInterrupt",
     "evalue": "",
     "output_type": "error",
     "traceback": [
      "\u001b[1;31m---------------------------------------------------------------------------\u001b[0m",
      "\u001b[1;31mKeyboardInterrupt\u001b[0m                         Traceback (most recent call last)",
      "Cell \u001b[1;32mIn[19], line 4\u001b[0m\n\u001b[0;32m      1\u001b[0m \u001b[38;5;66;03m# lda model\u001b[39;00m\n\u001b[0;32m      3\u001b[0m count_lda_model \u001b[38;5;241m=\u001b[39m LatentDirichletAllocation(n_components\u001b[38;5;241m=\u001b[39mn_topics, learning_method\u001b[38;5;241m=\u001b[39m\u001b[38;5;124m'\u001b[39m\u001b[38;5;124monline\u001b[39m\u001b[38;5;124m'\u001b[39m, random_state\u001b[38;5;241m=\u001b[39m\u001b[38;5;241m42\u001b[39m, verbose\u001b[38;5;241m=\u001b[39m\u001b[38;5;241m0\u001b[39m)\n\u001b[1;32m----> 4\u001b[0m count_lda_topic_matrix \u001b[38;5;241m=\u001b[39m \u001b[43mcount_lda_model\u001b[49m\u001b[38;5;241;43m.\u001b[39;49m\u001b[43mfit_transform\u001b[49m\u001b[43m(\u001b[49m\u001b[43mcount_reconstructed_data\u001b[49m\u001b[43m)\u001b[49m\n\u001b[0;32m      6\u001b[0m count_lda_keys \u001b[38;5;241m=\u001b[39m get_keys(count_lda_topic_matrix)\n\u001b[0;32m      7\u001b[0m count_lda_categories, lda_counts \u001b[38;5;241m=\u001b[39m keys_to_counts(count_lda_keys)\n",
      "File \u001b[1;32me:\\Anaconda\\envs\\LMH\\lib\\site-packages\\sklearn\\utils\\_set_output.py:295\u001b[0m, in \u001b[0;36m_wrap_method_output.<locals>.wrapped\u001b[1;34m(self, X, *args, **kwargs)\u001b[0m\n\u001b[0;32m    293\u001b[0m \u001b[38;5;129m@wraps\u001b[39m(f)\n\u001b[0;32m    294\u001b[0m \u001b[38;5;28;01mdef\u001b[39;00m \u001b[38;5;21mwrapped\u001b[39m(\u001b[38;5;28mself\u001b[39m, X, \u001b[38;5;241m*\u001b[39margs, \u001b[38;5;241m*\u001b[39m\u001b[38;5;241m*\u001b[39mkwargs):\n\u001b[1;32m--> 295\u001b[0m     data_to_wrap \u001b[38;5;241m=\u001b[39m f(\u001b[38;5;28mself\u001b[39m, X, \u001b[38;5;241m*\u001b[39margs, \u001b[38;5;241m*\u001b[39m\u001b[38;5;241m*\u001b[39mkwargs)\n\u001b[0;32m    296\u001b[0m     \u001b[38;5;28;01mif\u001b[39;00m \u001b[38;5;28misinstance\u001b[39m(data_to_wrap, \u001b[38;5;28mtuple\u001b[39m):\n\u001b[0;32m    297\u001b[0m         \u001b[38;5;66;03m# only wrap the first output for cross decomposition\u001b[39;00m\n\u001b[0;32m    298\u001b[0m         return_tuple \u001b[38;5;241m=\u001b[39m (\n\u001b[0;32m    299\u001b[0m             _wrap_data_with_container(method, data_to_wrap[\u001b[38;5;241m0\u001b[39m], X, \u001b[38;5;28mself\u001b[39m),\n\u001b[0;32m    300\u001b[0m             \u001b[38;5;241m*\u001b[39mdata_to_wrap[\u001b[38;5;241m1\u001b[39m:],\n\u001b[0;32m    301\u001b[0m         )\n",
      "File \u001b[1;32me:\\Anaconda\\envs\\LMH\\lib\\site-packages\\sklearn\\base.py:1098\u001b[0m, in \u001b[0;36mTransformerMixin.fit_transform\u001b[1;34m(self, X, y, **fit_params)\u001b[0m\n\u001b[0;32m   1083\u001b[0m         warnings\u001b[38;5;241m.\u001b[39mwarn(\n\u001b[0;32m   1084\u001b[0m             (\n\u001b[0;32m   1085\u001b[0m                 \u001b[38;5;124mf\u001b[39m\u001b[38;5;124m\"\u001b[39m\u001b[38;5;124mThis object (\u001b[39m\u001b[38;5;132;01m{\u001b[39;00m\u001b[38;5;28mself\u001b[39m\u001b[38;5;241m.\u001b[39m\u001b[38;5;18m__class__\u001b[39m\u001b[38;5;241m.\u001b[39m\u001b[38;5;18m__name__\u001b[39m\u001b[38;5;132;01m}\u001b[39;00m\u001b[38;5;124m) has a `transform`\u001b[39m\u001b[38;5;124m\"\u001b[39m\n\u001b[1;32m   (...)\u001b[0m\n\u001b[0;32m   1093\u001b[0m             \u001b[38;5;167;01mUserWarning\u001b[39;00m,\n\u001b[0;32m   1094\u001b[0m         )\n\u001b[0;32m   1096\u001b[0m \u001b[38;5;28;01mif\u001b[39;00m y \u001b[38;5;129;01mis\u001b[39;00m \u001b[38;5;28;01mNone\u001b[39;00m:\n\u001b[0;32m   1097\u001b[0m     \u001b[38;5;66;03m# fit method of arity 1 (unsupervised transformation)\u001b[39;00m\n\u001b[1;32m-> 1098\u001b[0m     \u001b[38;5;28;01mreturn\u001b[39;00m \u001b[38;5;28mself\u001b[39m\u001b[38;5;241m.\u001b[39mfit(X, \u001b[38;5;241m*\u001b[39m\u001b[38;5;241m*\u001b[39mfit_params)\u001b[38;5;241m.\u001b[39mtransform(X)\n\u001b[0;32m   1099\u001b[0m \u001b[38;5;28;01melse\u001b[39;00m:\n\u001b[0;32m   1100\u001b[0m     \u001b[38;5;66;03m# fit method of arity 2 (supervised transformation)\u001b[39;00m\n\u001b[0;32m   1101\u001b[0m     \u001b[38;5;28;01mreturn\u001b[39;00m \u001b[38;5;28mself\u001b[39m\u001b[38;5;241m.\u001b[39mfit(X, y, \u001b[38;5;241m*\u001b[39m\u001b[38;5;241m*\u001b[39mfit_params)\u001b[38;5;241m.\u001b[39mtransform(X)\n",
      "File \u001b[1;32me:\\Anaconda\\envs\\LMH\\lib\\site-packages\\sklearn\\base.py:1474\u001b[0m, in \u001b[0;36m_fit_context.<locals>.decorator.<locals>.wrapper\u001b[1;34m(estimator, *args, **kwargs)\u001b[0m\n\u001b[0;32m   1467\u001b[0m     estimator\u001b[38;5;241m.\u001b[39m_validate_params()\n\u001b[0;32m   1469\u001b[0m \u001b[38;5;28;01mwith\u001b[39;00m config_context(\n\u001b[0;32m   1470\u001b[0m     skip_parameter_validation\u001b[38;5;241m=\u001b[39m(\n\u001b[0;32m   1471\u001b[0m         prefer_skip_nested_validation \u001b[38;5;129;01mor\u001b[39;00m global_skip_validation\n\u001b[0;32m   1472\u001b[0m     )\n\u001b[0;32m   1473\u001b[0m ):\n\u001b[1;32m-> 1474\u001b[0m     \u001b[38;5;28;01mreturn\u001b[39;00m fit_method(estimator, \u001b[38;5;241m*\u001b[39margs, \u001b[38;5;241m*\u001b[39m\u001b[38;5;241m*\u001b[39mkwargs)\n",
      "File \u001b[1;32me:\\Anaconda\\envs\\LMH\\lib\\site-packages\\sklearn\\decomposition\\_lda.py:665\u001b[0m, in \u001b[0;36mLatentDirichletAllocation.fit\u001b[1;34m(self, X, y)\u001b[0m\n\u001b[0;32m    663\u001b[0m \u001b[38;5;28;01mif\u001b[39;00m learning_method \u001b[38;5;241m==\u001b[39m \u001b[38;5;124m\"\u001b[39m\u001b[38;5;124monline\u001b[39m\u001b[38;5;124m\"\u001b[39m:\n\u001b[0;32m    664\u001b[0m     \u001b[38;5;28;01mfor\u001b[39;00m idx_slice \u001b[38;5;129;01min\u001b[39;00m gen_batches(n_samples, batch_size):\n\u001b[1;32m--> 665\u001b[0m         \u001b[38;5;28;43mself\u001b[39;49m\u001b[38;5;241;43m.\u001b[39;49m\u001b[43m_em_step\u001b[49m\u001b[43m(\u001b[49m\n\u001b[0;32m    666\u001b[0m \u001b[43m            \u001b[49m\u001b[43mX\u001b[49m\u001b[43m[\u001b[49m\u001b[43midx_slice\u001b[49m\u001b[43m,\u001b[49m\u001b[43m \u001b[49m\u001b[43m:\u001b[49m\u001b[43m]\u001b[49m\u001b[43m,\u001b[49m\n\u001b[0;32m    667\u001b[0m \u001b[43m            \u001b[49m\u001b[43mtotal_samples\u001b[49m\u001b[38;5;241;43m=\u001b[39;49m\u001b[43mn_samples\u001b[49m\u001b[43m,\u001b[49m\n\u001b[0;32m    668\u001b[0m \u001b[43m            \u001b[49m\u001b[43mbatch_update\u001b[49m\u001b[38;5;241;43m=\u001b[39;49m\u001b[38;5;28;43;01mFalse\u001b[39;49;00m\u001b[43m,\u001b[49m\n\u001b[0;32m    669\u001b[0m \u001b[43m            \u001b[49m\u001b[43mparallel\u001b[49m\u001b[38;5;241;43m=\u001b[39;49m\u001b[43mparallel\u001b[49m\u001b[43m,\u001b[49m\n\u001b[0;32m    670\u001b[0m \u001b[43m        \u001b[49m\u001b[43m)\u001b[49m\n\u001b[0;32m    671\u001b[0m \u001b[38;5;28;01melse\u001b[39;00m:\n\u001b[0;32m    672\u001b[0m     \u001b[38;5;66;03m# batch update\u001b[39;00m\n\u001b[0;32m    673\u001b[0m     \u001b[38;5;28mself\u001b[39m\u001b[38;5;241m.\u001b[39m_em_step(\n\u001b[0;32m    674\u001b[0m         X, total_samples\u001b[38;5;241m=\u001b[39mn_samples, batch_update\u001b[38;5;241m=\u001b[39m\u001b[38;5;28;01mTrue\u001b[39;00m, parallel\u001b[38;5;241m=\u001b[39mparallel\n\u001b[0;32m    675\u001b[0m     )\n",
      "File \u001b[1;32me:\\Anaconda\\envs\\LMH\\lib\\site-packages\\sklearn\\decomposition\\_lda.py:524\u001b[0m, in \u001b[0;36mLatentDirichletAllocation._em_step\u001b[1;34m(self, X, total_samples, batch_update, parallel)\u001b[0m\n\u001b[0;32m    497\u001b[0m \u001b[38;5;250m\u001b[39m\u001b[38;5;124;03m\"\"\"EM update for 1 iteration.\u001b[39;00m\n\u001b[0;32m    498\u001b[0m \n\u001b[0;32m    499\u001b[0m \u001b[38;5;124;03mupdate `_component` by batch VB or online VB.\u001b[39;00m\n\u001b[1;32m   (...)\u001b[0m\n\u001b[0;32m    520\u001b[0m \u001b[38;5;124;03m    Unnormalized document topic distribution.\u001b[39;00m\n\u001b[0;32m    521\u001b[0m \u001b[38;5;124;03m\"\"\"\u001b[39;00m\n\u001b[0;32m    523\u001b[0m \u001b[38;5;66;03m# E-step\u001b[39;00m\n\u001b[1;32m--> 524\u001b[0m _, suff_stats \u001b[38;5;241m=\u001b[39m \u001b[38;5;28;43mself\u001b[39;49m\u001b[38;5;241;43m.\u001b[39;49m\u001b[43m_e_step\u001b[49m\u001b[43m(\u001b[49m\n\u001b[0;32m    525\u001b[0m \u001b[43m    \u001b[49m\u001b[43mX\u001b[49m\u001b[43m,\u001b[49m\u001b[43m \u001b[49m\u001b[43mcal_sstats\u001b[49m\u001b[38;5;241;43m=\u001b[39;49m\u001b[38;5;28;43;01mTrue\u001b[39;49;00m\u001b[43m,\u001b[49m\u001b[43m \u001b[49m\u001b[43mrandom_init\u001b[49m\u001b[38;5;241;43m=\u001b[39;49m\u001b[38;5;28;43;01mTrue\u001b[39;49;00m\u001b[43m,\u001b[49m\u001b[43m \u001b[49m\u001b[43mparallel\u001b[49m\u001b[38;5;241;43m=\u001b[39;49m\u001b[43mparallel\u001b[49m\n\u001b[0;32m    526\u001b[0m \u001b[43m\u001b[49m\u001b[43m)\u001b[49m\n\u001b[0;32m    528\u001b[0m \u001b[38;5;66;03m# M-step\u001b[39;00m\n\u001b[0;32m    529\u001b[0m \u001b[38;5;28;01mif\u001b[39;00m batch_update:\n",
      "File \u001b[1;32me:\\Anaconda\\envs\\LMH\\lib\\site-packages\\sklearn\\decomposition\\_lda.py:467\u001b[0m, in \u001b[0;36mLatentDirichletAllocation._e_step\u001b[1;34m(self, X, cal_sstats, random_init, parallel)\u001b[0m\n\u001b[0;32m    465\u001b[0m \u001b[38;5;28;01mif\u001b[39;00m parallel \u001b[38;5;129;01mis\u001b[39;00m \u001b[38;5;28;01mNone\u001b[39;00m:\n\u001b[0;32m    466\u001b[0m     parallel \u001b[38;5;241m=\u001b[39m Parallel(n_jobs\u001b[38;5;241m=\u001b[39mn_jobs, verbose\u001b[38;5;241m=\u001b[39m\u001b[38;5;28mmax\u001b[39m(\u001b[38;5;241m0\u001b[39m, \u001b[38;5;28mself\u001b[39m\u001b[38;5;241m.\u001b[39mverbose \u001b[38;5;241m-\u001b[39m \u001b[38;5;241m1\u001b[39m))\n\u001b[1;32m--> 467\u001b[0m results \u001b[38;5;241m=\u001b[39m \u001b[43mparallel\u001b[49m\u001b[43m(\u001b[49m\n\u001b[0;32m    468\u001b[0m \u001b[43m    \u001b[49m\u001b[43mdelayed\u001b[49m\u001b[43m(\u001b[49m\u001b[43m_update_doc_distribution\u001b[49m\u001b[43m)\u001b[49m\u001b[43m(\u001b[49m\n\u001b[0;32m    469\u001b[0m \u001b[43m        \u001b[49m\u001b[43mX\u001b[49m\u001b[43m[\u001b[49m\u001b[43midx_slice\u001b[49m\u001b[43m,\u001b[49m\u001b[43m \u001b[49m\u001b[43m:\u001b[49m\u001b[43m]\u001b[49m\u001b[43m,\u001b[49m\n\u001b[0;32m    470\u001b[0m \u001b[43m        \u001b[49m\u001b[38;5;28;43mself\u001b[39;49m\u001b[38;5;241;43m.\u001b[39;49m\u001b[43mexp_dirichlet_component_\u001b[49m\u001b[43m,\u001b[49m\n\u001b[0;32m    471\u001b[0m \u001b[43m        \u001b[49m\u001b[38;5;28;43mself\u001b[39;49m\u001b[38;5;241;43m.\u001b[39;49m\u001b[43mdoc_topic_prior_\u001b[49m\u001b[43m,\u001b[49m\n\u001b[0;32m    472\u001b[0m \u001b[43m        \u001b[49m\u001b[38;5;28;43mself\u001b[39;49m\u001b[38;5;241;43m.\u001b[39;49m\u001b[43mmax_doc_update_iter\u001b[49m\u001b[43m,\u001b[49m\n\u001b[0;32m    473\u001b[0m \u001b[43m        \u001b[49m\u001b[38;5;28;43mself\u001b[39;49m\u001b[38;5;241;43m.\u001b[39;49m\u001b[43mmean_change_tol\u001b[49m\u001b[43m,\u001b[49m\n\u001b[0;32m    474\u001b[0m \u001b[43m        \u001b[49m\u001b[43mcal_sstats\u001b[49m\u001b[43m,\u001b[49m\n\u001b[0;32m    475\u001b[0m \u001b[43m        \u001b[49m\u001b[43mrandom_state\u001b[49m\u001b[43m,\u001b[49m\n\u001b[0;32m    476\u001b[0m \u001b[43m    \u001b[49m\u001b[43m)\u001b[49m\n\u001b[0;32m    477\u001b[0m \u001b[43m    \u001b[49m\u001b[38;5;28;43;01mfor\u001b[39;49;00m\u001b[43m \u001b[49m\u001b[43midx_slice\u001b[49m\u001b[43m \u001b[49m\u001b[38;5;129;43;01min\u001b[39;49;00m\u001b[43m \u001b[49m\u001b[43mgen_even_slices\u001b[49m\u001b[43m(\u001b[49m\u001b[43mX\u001b[49m\u001b[38;5;241;43m.\u001b[39;49m\u001b[43mshape\u001b[49m\u001b[43m[\u001b[49m\u001b[38;5;241;43m0\u001b[39;49m\u001b[43m]\u001b[49m\u001b[43m,\u001b[49m\u001b[43m \u001b[49m\u001b[43mn_jobs\u001b[49m\u001b[43m)\u001b[49m\n\u001b[0;32m    478\u001b[0m \u001b[43m\u001b[49m\u001b[43m)\u001b[49m\n\u001b[0;32m    480\u001b[0m \u001b[38;5;66;03m# merge result\u001b[39;00m\n\u001b[0;32m    481\u001b[0m doc_topics, sstats_list \u001b[38;5;241m=\u001b[39m \u001b[38;5;28mzip\u001b[39m(\u001b[38;5;241m*\u001b[39mresults)\n",
      "File \u001b[1;32me:\\Anaconda\\envs\\LMH\\lib\\site-packages\\sklearn\\utils\\parallel.py:67\u001b[0m, in \u001b[0;36mParallel.__call__\u001b[1;34m(self, iterable)\u001b[0m\n\u001b[0;32m     62\u001b[0m config \u001b[38;5;241m=\u001b[39m get_config()\n\u001b[0;32m     63\u001b[0m iterable_with_config \u001b[38;5;241m=\u001b[39m (\n\u001b[0;32m     64\u001b[0m     (_with_config(delayed_func, config), args, kwargs)\n\u001b[0;32m     65\u001b[0m     \u001b[38;5;28;01mfor\u001b[39;00m delayed_func, args, kwargs \u001b[38;5;129;01min\u001b[39;00m iterable\n\u001b[0;32m     66\u001b[0m )\n\u001b[1;32m---> 67\u001b[0m \u001b[38;5;28;01mreturn\u001b[39;00m \u001b[38;5;28;43msuper\u001b[39;49m\u001b[43m(\u001b[49m\u001b[43m)\u001b[49m\u001b[38;5;241;43m.\u001b[39;49m\u001b[38;5;21;43m__call__\u001b[39;49m\u001b[43m(\u001b[49m\u001b[43miterable_with_config\u001b[49m\u001b[43m)\u001b[49m\n",
      "File \u001b[1;32me:\\Anaconda\\envs\\LMH\\lib\\site-packages\\joblib\\parallel.py:1863\u001b[0m, in \u001b[0;36mParallel.__call__\u001b[1;34m(self, iterable)\u001b[0m\n\u001b[0;32m   1861\u001b[0m     output \u001b[38;5;241m=\u001b[39m \u001b[38;5;28mself\u001b[39m\u001b[38;5;241m.\u001b[39m_get_sequential_output(iterable)\n\u001b[0;32m   1862\u001b[0m     \u001b[38;5;28mnext\u001b[39m(output)\n\u001b[1;32m-> 1863\u001b[0m     \u001b[38;5;28;01mreturn\u001b[39;00m output \u001b[38;5;28;01mif\u001b[39;00m \u001b[38;5;28mself\u001b[39m\u001b[38;5;241m.\u001b[39mreturn_generator \u001b[38;5;28;01melse\u001b[39;00m \u001b[38;5;28;43mlist\u001b[39;49m\u001b[43m(\u001b[49m\u001b[43moutput\u001b[49m\u001b[43m)\u001b[49m\n\u001b[0;32m   1865\u001b[0m \u001b[38;5;66;03m# Let's create an ID that uniquely identifies the current call. If the\u001b[39;00m\n\u001b[0;32m   1866\u001b[0m \u001b[38;5;66;03m# call is interrupted early and that the same instance is immediately\u001b[39;00m\n\u001b[0;32m   1867\u001b[0m \u001b[38;5;66;03m# re-used, this id will be used to prevent workers that were\u001b[39;00m\n\u001b[0;32m   1868\u001b[0m \u001b[38;5;66;03m# concurrently finalizing a task from the previous call to run the\u001b[39;00m\n\u001b[0;32m   1869\u001b[0m \u001b[38;5;66;03m# callback.\u001b[39;00m\n\u001b[0;32m   1870\u001b[0m \u001b[38;5;28;01mwith\u001b[39;00m \u001b[38;5;28mself\u001b[39m\u001b[38;5;241m.\u001b[39m_lock:\n",
      "File \u001b[1;32me:\\Anaconda\\envs\\LMH\\lib\\site-packages\\joblib\\parallel.py:1792\u001b[0m, in \u001b[0;36mParallel._get_sequential_output\u001b[1;34m(self, iterable)\u001b[0m\n\u001b[0;32m   1790\u001b[0m \u001b[38;5;28mself\u001b[39m\u001b[38;5;241m.\u001b[39mn_dispatched_batches \u001b[38;5;241m+\u001b[39m\u001b[38;5;241m=\u001b[39m \u001b[38;5;241m1\u001b[39m\n\u001b[0;32m   1791\u001b[0m \u001b[38;5;28mself\u001b[39m\u001b[38;5;241m.\u001b[39mn_dispatched_tasks \u001b[38;5;241m+\u001b[39m\u001b[38;5;241m=\u001b[39m \u001b[38;5;241m1\u001b[39m\n\u001b[1;32m-> 1792\u001b[0m res \u001b[38;5;241m=\u001b[39m func(\u001b[38;5;241m*\u001b[39margs, \u001b[38;5;241m*\u001b[39m\u001b[38;5;241m*\u001b[39mkwargs)\n\u001b[0;32m   1793\u001b[0m \u001b[38;5;28mself\u001b[39m\u001b[38;5;241m.\u001b[39mn_completed_tasks \u001b[38;5;241m+\u001b[39m\u001b[38;5;241m=\u001b[39m \u001b[38;5;241m1\u001b[39m\n\u001b[0;32m   1794\u001b[0m \u001b[38;5;28mself\u001b[39m\u001b[38;5;241m.\u001b[39mprint_progress()\n",
      "File \u001b[1;32me:\\Anaconda\\envs\\LMH\\lib\\site-packages\\sklearn\\utils\\parallel.py:129\u001b[0m, in \u001b[0;36m_FuncWrapper.__call__\u001b[1;34m(self, *args, **kwargs)\u001b[0m\n\u001b[0;32m    127\u001b[0m     config \u001b[38;5;241m=\u001b[39m {}\n\u001b[0;32m    128\u001b[0m \u001b[38;5;28;01mwith\u001b[39;00m config_context(\u001b[38;5;241m*\u001b[39m\u001b[38;5;241m*\u001b[39mconfig):\n\u001b[1;32m--> 129\u001b[0m     \u001b[38;5;28;01mreturn\u001b[39;00m \u001b[38;5;28mself\u001b[39m\u001b[38;5;241m.\u001b[39mfunction(\u001b[38;5;241m*\u001b[39margs, \u001b[38;5;241m*\u001b[39m\u001b[38;5;241m*\u001b[39mkwargs)\n",
      "File \u001b[1;32me:\\Anaconda\\envs\\LMH\\lib\\site-packages\\sklearn\\decomposition\\_lda.py:146\u001b[0m, in \u001b[0;36m_update_doc_distribution\u001b[1;34m(X, exp_topic_word_distr, doc_topic_prior, max_doc_update_iter, mean_change_tol, cal_sstats, random_state)\u001b[0m\n\u001b[0;32m    142\u001b[0m \u001b[38;5;66;03m# The optimal phi_{dwk} is proportional to\u001b[39;00m\n\u001b[0;32m    143\u001b[0m \u001b[38;5;66;03m# exp(E[log(theta_{dk})]) * exp(E[log(beta_{dw})]).\u001b[39;00m\n\u001b[0;32m    144\u001b[0m norm_phi \u001b[38;5;241m=\u001b[39m np\u001b[38;5;241m.\u001b[39mdot(exp_doc_topic_d, exp_topic_word_d) \u001b[38;5;241m+\u001b[39m eps\n\u001b[1;32m--> 146\u001b[0m doc_topic_d \u001b[38;5;241m=\u001b[39m exp_doc_topic_d \u001b[38;5;241m*\u001b[39m \u001b[43mnp\u001b[49m\u001b[38;5;241;43m.\u001b[39;49m\u001b[43mdot\u001b[49m\u001b[43m(\u001b[49m\u001b[43mcnts\u001b[49m\u001b[43m \u001b[49m\u001b[38;5;241;43m/\u001b[39;49m\u001b[43m \u001b[49m\u001b[43mnorm_phi\u001b[49m\u001b[43m,\u001b[49m\u001b[43m \u001b[49m\u001b[43mexp_topic_word_d\u001b[49m\u001b[38;5;241;43m.\u001b[39;49m\u001b[43mT\u001b[49m\u001b[43m)\u001b[49m\n\u001b[0;32m    147\u001b[0m \u001b[38;5;66;03m# Note: adds doc_topic_prior to doc_topic_d, in-place.\u001b[39;00m\n\u001b[0;32m    148\u001b[0m dirichlet_expectation_1d(doc_topic_d, doc_topic_prior, exp_doc_topic_d)\n",
      "\u001b[1;31mKeyboardInterrupt\u001b[0m: "
     ]
    }
   ],
   "source": [
    "# lda model\n",
    "\n",
    "count_lda_model = LatentDirichletAllocation(n_components=n_topics, learning_method='online', random_state=42, verbose=0)\n",
    "count_lda_topic_matrix = count_lda_model.fit_transform(count_reconstructed_data)\n",
    "\n",
    "count_lda_keys = get_keys(count_lda_topic_matrix)\n",
    "count_lda_categories, lda_counts = keys_to_counts(count_lda_keys)"
   ]
  },
  {
   "cell_type": "code",
   "execution_count": 34,
   "metadata": {},
   "outputs": [
    {
     "name": "stdout",
     "output_type": "stream",
     "text": [
      "finished 0 of 10 topics\n",
      "finished 1 of 10 topics\n",
      "finished 2 of 10 topics\n",
      "finished 3 of 10 topics\n",
      "finished 4 of 10 topics\n",
      "finished 5 of 10 topics\n",
      "finished 6 of 10 topics\n",
      "finished 7 of 10 topics\n",
      "finished 8 of 10 topics\n",
      "finished 9 of 10 topics\n",
      "Topic 0: crash sydney south trial north | Topic Count: 15581\n",
      "Topic 1: water calls government hospital power | Topic Count: 6724\n",
      "Topic 2: police wa sa school car | Topic Count: 5263\n",
      "Topic 3: court nsw world report cup | Topic Count: 6872\n",
      "Topic 4: says man plan china coronavirus | Topic Count: 7445\n",
      "Topic 5: new day wins election test | Topic Count: 8823\n",
      "Topic 6: death australian qld dies canberra | Topic Count: 11076\n",
      "Topic 7: interview council govt australia set | Topic Count: 24047\n",
      "Topic 8: charged man coast woman killed | Topic Count: 8128\n",
      "Topic 9: health home abc talks pm | Topic Count: 6041\n"
     ]
    }
   ],
   "source": [
    "\n",
    "\n",
    "results = []\n",
    "top_n_words_lda = get_top_n_words(5, count_lda_keys, count_X, count_vectorizer)\n",
    "for i in range(len(top_n_words_lda)):\n",
    "    result = f'Topic {i}: {top_n_words_lda[i]} | Topic Count: {lda_counts[i]}'\n",
    "    results.append(result)\n",
    "    print(f\"finished {i} of {len(top_n_words_lda)} topics\")\n",
    "\n",
    "for result in results:\n",
    "    print(result)"
   ]
  },
  {
   "cell_type": "code",
   "execution_count": 20,
   "metadata": {},
   "outputs": [],
   "source": [
    "# TfidfVectorizer\n",
    "tfidf_vectorizer = TfidfVectorizer(stop_words='english', max_df=0.95, min_df=2, max_features=2000)\n",
    "tfidf_X = tfidf_vectorizer.fit_transform(data['headline_text'])\n",
    "tfidf_X_array = tfidf_X.toarray()\n",
    "\n",
    "# Define the autoencoder architecture\n",
    "tfidf_input_dim = tfidf_X.shape[1]  # This will be the number of features (max_features)\n",
    "tfidf_encoding_dim = 64\n",
    "\n",
    "tfidf_input_layer = Input(shape=(tfidf_input_dim,))\n",
    "tfidf_encoded = Dense(tfidf_encoding_dim, activation='relu')(tfidf_input_layer)\n",
    "tfidf_decoded = Dense(tfidf_input_dim, activation='sigmoid')(tfidf_encoded)\n",
    "\n",
    "tfidf_autoencoder = Model(tfidf_input_layer, tfidf_decoded)\n",
    "tfidf_encoder = Model(tfidf_input_layer, tfidf_encoded)"
   ]
  },
  {
   "cell_type": "code",
   "execution_count": 21,
   "metadata": {},
   "outputs": [
    {
     "name": "stdout",
     "output_type": "stream",
     "text": [
      "Epoch 1/10\n",
      "\u001b[1m6250/6250\u001b[0m \u001b[32m━━━━━━━━━━━━━━━━━━━━\u001b[0m\u001b[37m\u001b[0m \u001b[1m9s\u001b[0m 1ms/step - loss: 0.0173\n",
      "Epoch 2/10\n",
      "\u001b[1m6250/6250\u001b[0m \u001b[32m━━━━━━━━━━━━━━━━━━━━\u001b[0m\u001b[37m\u001b[0m \u001b[1m8s\u001b[0m 1ms/step - loss: 4.8763e-04\n",
      "Epoch 3/10\n",
      "\u001b[1m6250/6250\u001b[0m \u001b[32m━━━━━━━━━━━━━━━━━━━━\u001b[0m\u001b[37m\u001b[0m \u001b[1m8s\u001b[0m 1ms/step - loss: 4.8177e-04\n",
      "Epoch 4/10\n",
      "\u001b[1m6250/6250\u001b[0m \u001b[32m━━━━━━━━━━━━━━━━━━━━\u001b[0m\u001b[37m\u001b[0m \u001b[1m9s\u001b[0m 1ms/step - loss: 4.7387e-04\n",
      "Epoch 5/10\n",
      "\u001b[1m6250/6250\u001b[0m \u001b[32m━━━━━━━━━━━━━━━━━━━━\u001b[0m\u001b[37m\u001b[0m \u001b[1m8s\u001b[0m 1ms/step - loss: 4.6069e-04\n",
      "Epoch 6/10\n",
      "\u001b[1m6250/6250\u001b[0m \u001b[32m━━━━━━━━━━━━━━━━━━━━\u001b[0m\u001b[37m\u001b[0m \u001b[1m8s\u001b[0m 1ms/step - loss: 4.4995e-04\n",
      "Epoch 7/10\n",
      "\u001b[1m6250/6250\u001b[0m \u001b[32m━━━━━━━━━━━━━━━━━━━━\u001b[0m\u001b[37m\u001b[0m \u001b[1m8s\u001b[0m 1ms/step - loss: 4.3469e-04\n",
      "Epoch 8/10\n",
      "\u001b[1m6250/6250\u001b[0m \u001b[32m━━━━━━━━━━━━━━━━━━━━\u001b[0m\u001b[37m\u001b[0m \u001b[1m8s\u001b[0m 1ms/step - loss: 4.2430e-04\n",
      "Epoch 9/10\n",
      "\u001b[1m6250/6250\u001b[0m \u001b[32m━━━━━━━━━━━━━━━━━━━━\u001b[0m\u001b[37m\u001b[0m \u001b[1m8s\u001b[0m 1ms/step - loss: 4.1606e-04\n",
      "Epoch 10/10\n",
      "\u001b[1m6250/6250\u001b[0m \u001b[32m━━━━━━━━━━━━━━━━━━━━\u001b[0m\u001b[37m\u001b[0m \u001b[1m8s\u001b[0m 1ms/step - loss: 4.0721e-04\n"
     ]
    },
    {
     "data": {
      "image/png": "[encoded data removed]",
      "text/plain": [
       "<Figure size 640x480 with 1 Axes>"
      ]
     },
     "metadata": {},
     "output_type": "display_data"
    }
   ],
   "source": [
    "tfidf_autoencoder.compile(optimizer='adam', loss='mse')\n",
    "\n",
    "# Train the autoencoder\n",
    "tfidf_autoencoder.fit(tfidf_X_array, tfidf_X_array,\n",
    "                epochs=10,\n",
    "                batch_size=16,\n",
    "                shuffle=True,)\n",
    "\n",
    "# plot the loss\n",
    "plt.plot(tfidf_autoencoder.history.history['loss'])\n",
    "plt.title('Autoencoder loss with tfidf vectorizer')\n",
    "plt.ylabel('loss')\n",
    "plt.xlabel('epoch')\n",
    "plt.show()\n",
    "\n"
   ]
  },
  {
   "cell_type": "code",
   "execution_count": 22,
   "metadata": {},
   "outputs": [
    {
     "name": "stdout",
     "output_type": "stream",
     "text": [
      "\u001b[1m3125/3125\u001b[0m \u001b[32m━━━━━━━━━━━━━━━━━━━━\u001b[0m\u001b[37m\u001b[0m \u001b[1m2s\u001b[0m 479us/step\n",
      "\u001b[1m3125/3125\u001b[0m \u001b[32m━━━━━━━━━━━━━━━━━━━━\u001b[0m\u001b[37m\u001b[0m \u001b[1m2s\u001b[0m 686us/step\n",
      "Topic 0:  govt nsw sydney wa water | Topic Count: 81872\n",
      "Topic 1:  interview extended michael james david | Topic Count: 1847\n",
      "Topic 2:  man charged police murder jailed | Topic Count: 1062\n",
      "Topic 3:  police investigate probe hunt death | Topic Count: 1853\n",
      "Topic 4:  new zealand laws york cases | Topic Count: 1933\n",
      "Topic 5:  says pm trump opposition mp | Topic Count: 1261\n",
      "Topic 6:  australia world cup win day | Topic Count: 3233\n",
      "Topic 7:  court accused murder face case | Topic Count: 1993\n",
      "Topic 8:  council plan water considers land | Topic Count: 2516\n",
      "Topic 9:  crash dies killed car fatal | Topic Count: 2430\n"
     ]
    }
   ],
   "source": [
    "# Get the encoded representation of the data\n",
    "tfidf_encoded_data = tfidf_encoder.predict(tfidf_X_array)\n",
    "\n",
    "# decode the encoded data\n",
    "tfidf_reconstructed_data = tfidf_autoencoder.predict(tfidf_X_array)\n",
    "\n",
    "\n",
    "n_topics = 10\n",
    "tfidf_lsa_model = TruncatedSVD(n_components=n_topics)\n",
    "tfidf_lsa_topic_matrix = tfidf_lsa_model.fit_transform(tfidf_reconstructed_data)\n",
    "\n",
    "tfidf_lsa_keys = get_keys(tfidf_lsa_topic_matrix)\n",
    "tfidf_lsa_categories, tfidf_lsa_counts = keys_to_counts(tfidf_lsa_keys)\n",
    "\n",
    "top_n_words_tfidf_lsa = get_top_n_words(5, tfidf_lsa_keys, tfidf_X, tfidf_vectorizer)\n",
    "for i in range(len(top_n_words_tfidf_lsa)):\n",
    "    print('Topic {}: '.format(i), top_n_words_tfidf_lsa[i], end='')\n",
    "    print(' | Topic Count: {}'.format(tfidf_lsa_counts[i]))\n"
   ]
  },
  {
   "cell_type": "code",
   "execution_count": 38,
   "metadata": {},
   "outputs": [
    {
     "name": "stdout",
     "output_type": "stream",
     "text": [
      "finished 0 of 10 topics\n",
      "finished 1 of 10 topics\n",
      "finished 2 of 10 topics\n",
      "finished 3 of 10 topics\n",
      "finished 4 of 10 topics\n",
      "finished 5 of 10 topics\n",
      "finished 6 of 10 topics\n",
      "finished 7 of 10 topics\n",
      "finished 8 of 10 topics\n",
      "finished 9 of 10 topics\n",
      "Topic 0: abc rural news open wins | Topic Count: 52177\n",
      "Topic 1: water wa report court calls | Topic Count: 6099\n",
      "Topic 2: police missing search china investigate | Topic Count: 6851\n",
      "Topic 3: nsw australian health coast queensland | Topic Count: 3728\n",
      "Topic 4: govt plan government sydney urged | Topic Count: 4843\n",
      "Topic 5: new hospital dead year zealand | Topic Count: 2492\n",
      "Topic 6: council set school plans rise | Topic Count: 5970\n",
      "Topic 7: interview says death crash probe | Topic Count: 10277\n",
      "Topic 8: man charged murder woman killed | Topic Count: 2386\n",
      "Topic 9: australia world day win cup | Topic Count: 5177\n"
     ]
    }
   ],
   "source": [
    "tfidf_lda_model = LatentDirichletAllocation(n_components=n_topics, learning_method='online', random_state=42, verbose=0)\n",
    "tfidf_lda_topic_matrix = tfidf_lda_model.fit_transform(tfidf_reconstructed_data)\n",
    "\n",
    "tfidf_lda_keys = get_keys(tfidf_lda_topic_matrix)\n",
    "tfidf_lda_categories, tfidf_lda_counts = keys_to_counts(tfidf_lda_keys)\n",
    "\n",
    "results = []\n",
    "top_n_words_tfidf_lda = get_top_n_words(5, tfidf_lda_keys, tfidf_X, tfidf_vectorizer)\n",
    "for i in range(len(top_n_words_tfidf_lda)):\n",
    "    result = f'Topic {i}: {top_n_words_tfidf_lda[i]} | Topic Count: {tfidf_lda_counts[i]}'\n",
    "    results.append(result)\n",
    "    print(f\"finished {i} of {len(top_n_words_tfidf_lda)} topics\")\n",
    "\n",
    "for result in results:\n",
    "    print(result)"
   ]
  },
  {
   "cell_type": "code",
   "execution_count": 23,
   "metadata": {},
   "outputs": [
    {
     "name": "stdout",
     "output_type": "stream",
     "text": [
      "LSA Count Coherence: 0.3678497019245988\n",
      "LSA Tfidf Coherence: 0.3715618579367542\n"
     ]
    }
   ],
   "source": [
    "# evaluate the model\n",
    "# 1. coherence score\n",
    "from gensim.models import CoherenceModel\n",
    "from gensim.corpora import Dictionary\n",
    "\n",
    "def get_topics(model, feature_names, n_top_words):\n",
    "    topics = []\n",
    "    for topic_idx, topic in enumerate(model.components_):\n",
    "        topics.append(\" \".join([feature_names[i] for i in topic.argsort()[:-n_top_words - 1:-1]]))\n",
    "    return topics\n",
    "\n",
    "def get_coherence_score(documents, topics):\n",
    "    dictionary = Dictionary(documents)\n",
    "    corpus = [dictionary.doc2bow(doc) for doc in documents]\n",
    "    cm = CoherenceModel(topics=topics, texts=documents, dictionary=dictionary, coherence='c_v')\n",
    "    return cm.get_coherence()\n",
    "\n",
    "# get the topics\n",
    "lsa_count_topics = get_topics(count_lsa_model, count_vectorizer.get_feature_names_out(), 5)\n",
    "lsa_tfidf_topics = get_topics(tfidf_lsa_model, tfidf_vectorizer.get_feature_names_out(), 5)\n",
    "lda_count_topics = get_topics(count_lda_model, count_vectorizer.get_feature_names_out(), 5)\n",
    "lda_tfidf_topics = get_topics(tfidf_lda_model, tfidf_vectorizer.get_feature_names_out(), 5)\n",
    "\n",
    "# get the coherence score\n",
    "documents = data['headline_text'].apply(lambda x: x.split())\n",
    "lsa_count_coherence = get_coherence_score(documents, lsa_count_topics)\n",
    "lsa_tfidf_coherence = get_coherence_score(documents, lsa_tfidf_topics)\n",
    "lda_count_coherence = get_coherence_score(documents, lda_count_topics)\n",
    "lda_tfidf_coherence = get_coherence_score(documents, lda_tfidf_topics)\n",
    "\n",
    "print(f'LSA Count Coherence: {lsa_count_coherence}')\n",
    "print(f'LSA Tfidf Coherence: {lsa_tfidf_coherence}')\n",
    "print(f'LDA Count Coherence: {lda_count_coherence}')\n",
    "print(f'LDA Tfidf Coherence: {lda_tfidf_coherence}')"
   ]
  },
  {
   "cell_type": "code",
   "execution_count": 24,
   "metadata": {},
   "outputs": [
    {
     "name": "stdout",
     "output_type": "stream",
     "text": [
      "LSA Count Coverage: 0.28088\n",
      "LSA Tfidf Coverage: 0.30257\n"
     ]
    }
   ],
   "source": [
    "# coverage\n",
    "def get_topic_coverage(topic_matrix, document_term_matrix, threshold):\n",
    "    '''\n",
    "    returns the proportion of documents that are \n",
    "    assigned a topic with a proportion greater than \n",
    "    the threshold\n",
    "    '''\n",
    "    topic_proportions = np.max(topic_matrix, axis=1)\n",
    "    return np.sum(topic_proportions > threshold) / len(topic_proportions)\n",
    "\n",
    "lsa_count_coverage = get_topic_coverage(count_lsa_topic_matrix, count_X, 0.1)\n",
    "lsa_tfidf_coverage = get_topic_coverage(tfidf_lsa_topic_matrix, tfidf_X, 0.1)\n",
    "lda_count_coverage = get_topic_coverage(count_lda_topic_matrix, count_X, 0.1)\n",
    "lda_tfidf_coverage = get_topic_coverage(tfidf_lda_topic_matrix, tfidf_X, 0.1)\n",
    "\n",
    "print(f'LSA Count Coverage: {lsa_count_coverage}')\n",
    "print(f'LSA Tfidf Coverage: {lsa_tfidf_coverage}')\n",
    "print(f'LDA Count Coverage: {lda_count_coverage}')\n",
    "print(f'LDA Tfidf Coverage: {lda_tfidf_coverage}')"
   ]
  },
  {
   "cell_type": "code",
   "execution_count": null,
   "metadata": {},
   "outputs": [],
   "source": []
  }
 ],
 "metadata": {
  "kernelspec": {
   "display_name": "Python 3",
   "language": "python",
   "name": "python3"
  },
  "language_info": {
   "codemirror_mode": {
    "name": "ipython",
    "version": 3
   },
   "file_extension": ".py",
   "mimetype": "text/x-python",
   "name": "python",
   "nbconvert_exporter": "python",
   "pygments_lexer": "ipython3",
   "version": "3.9.18"
  }
 },
 "nbformat": 4,
 "nbformat_minor": 2
}
